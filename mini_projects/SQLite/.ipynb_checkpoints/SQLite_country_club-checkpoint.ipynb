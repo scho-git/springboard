{
 "cells": [
  {
   "cell_type": "markdown",
   "metadata": {},
   "source": [
    "## Assignment:\n",
    "\n",
    "Export the country club data from PHPMyAdmin, and connect to a local SQLite instance from a Jupyter notebook for the following questions."
   ]
  },
  {
   "cell_type": "code",
   "execution_count": 1,
   "metadata": {},
   "outputs": [],
   "source": [
    "#Import needed package\n",
    "import sqlite3"
   ]
  },
  {
   "cell_type": "code",
   "execution_count": 2,
   "metadata": {},
   "outputs": [
    {
     "name": "stdout",
     "output_type": "stream",
     "text": [
      "Connection successful.\n"
     ]
    }
   ],
   "source": [
    "#Connect to the existing database\n",
    "try: \n",
    "    conn = sqlite3.connect('sqlite_db_pythonsqlite.db')\n",
    "    print(\"Connection successful.\")\n",
    "except Error as e:\n",
    "    print(e)"
   ]
  },
  {
   "cell_type": "markdown",
   "metadata": {},
   "source": [
    "**Q10.** Produce a list of facilities with a total revenue less than 1000.\n",
    "The output of facility name and total revenue, sorted by revenue. Remember\n",
    "that there's a different cost for guests and members!"
   ]
  },
  {
   "cell_type": "code",
   "execution_count": 3,
   "metadata": {},
   "outputs": [
    {
     "name": "stdout",
     "output_type": "stream",
     "text": [
      "Revenue of Table Tennis: -$170.00\n",
      "Revenue of Pool Table: -$175.00\n",
      "Revenue of Snooker Table: -$255.00\n",
      "Revenue of Badminton Court: -$2,243.50\n"
     ]
    }
   ],
   "source": [
    "query = \"SELECT f.name, (SUM(CASE WHEN firstname = 'GUEST' THEN guestcost*slots ELSE membercost*slots END)-initialoutlay-3*monthlymaintenance) AS rev FROM Bookings INNER JOIN Facilities AS f USING (facid) INNER JOIN Members USING (memid) GROUP BY f.name HAVING rev<1000 ORDER BY rev DESC;\"\n",
    "\n",
    "cursor = conn.execute(query)\n",
    "\n",
    "for row in cursor:\n",
    "    print (\"Revenue of {}: -${:,.2f}\".format(row[0], abs(row[1])))"
   ]
  },
  {
   "cell_type": "markdown",
   "metadata": {},
   "source": [
    "**Q11.** Produce a report of members and who recommended them in alphabetic surname, firstname order."
   ]
  },
  {
   "cell_type": "code",
   "execution_count": 4,
   "metadata": {},
   "outputs": [
    {
     "name": "stdout",
     "output_type": "stream",
     "text": [
      "Member Bader, Florence was recommended by Stibbons, Ponder.\n",
      "Member Baker, Anne was recommended by Stibbons, Ponder.\n",
      "Member Baker, Timothy was recommended by Farrell, Jemima.\n",
      "Member Boothe, Tim was recommended by Rownam, Tim.\n",
      "Member Butters, Gerald was recommended by Smith, Darren.\n",
      "Member Coplin, Joan was recommended by Baker, Timothy.\n",
      "Member Crumpet, Erica was recommended by Smith, Tracy.\n",
      "Member Dare, Nancy was recommended by Joplette, Janice.\n",
      "Member Genting, Matthew was recommended by Butters, Gerald.\n",
      "Member Hunt, John was recommended by Purview, Millicent.\n",
      "Member Jones, David was recommended by Joplette, Janice.\n",
      "Member Jones, Douglas was recommended by Jones, David.\n",
      "Member Joplette, Janice was recommended by Smith, Darren.\n",
      "Member Mackenzie, Anna was recommended by Smith, Darren.\n",
      "Member Owen, Charles was recommended by Smith, Darren.\n",
      "Member Pinker, David was recommended by Farrell, Jemima.\n",
      "Member Purview, Millicent was recommended by Smith, Tracy.\n",
      "Member Rumney, Henrietta was recommended by Genting, Matthew.\n",
      "Member Sarwin, Ramnaresh was recommended by Bader, Florence.\n",
      "Member Smith, Jack was recommended by Smith, Darren.\n",
      "Member Stibbons, Ponder was recommended by Tracy, Burton.\n",
      "Member Worthington-Smyth, Henry was recommended by Smith, Tracy.\n"
     ]
    }
   ],
   "source": [
    "query = \"SELECT m2.surname || ', ' || m2.firstname AS member, m1.surname || ', ' || m1.firstname AS recommender FROM Members AS m1 LEFT JOIN Members AS m2 ON m1.memid = m2.recommendedby WHERE member IS NOT NULL ORDER BY m2.surname;\"\n",
    "\n",
    "cursor = conn.execute(query)\n",
    "\n",
    "for row in cursor:\n",
    "    print (\"Member {} was recommended by {}.\".format(row[0], row[1]))"
   ]
  },
  {
   "cell_type": "markdown",
   "metadata": {},
   "source": [
    "**Q12.** Find the facilities with their usage by member, but not guests."
   ]
  },
  {
   "cell_type": "code",
   "execution_count": 5,
   "metadata": {},
   "outputs": [
    {
     "name": "stdout",
     "output_type": "stream",
     "text": [
      "The Badminton Court was used by members 344 times.\n",
      "The Massage Room 1 was used by members 421 times.\n",
      "The Massage Room 2 was used by members 27 times.\n",
      "The Pool Table was used by members 783 times.\n",
      "The Snooker Table was used by members 421 times.\n",
      "The Squash Court was used by members 195 times.\n",
      "The Table Tennis was used by members 385 times.\n",
      "The Tennis Court 1 was used by members 308 times.\n",
      "The Tennis Court 2 was used by members 276 times.\n"
     ]
    }
   ],
   "source": [
    "query = \"SELECT f.name, COUNT(*) AS member_usage FROM Bookings AS b LEFT JOIN Facilities AS f USING(facid) WHERE b.memid!=0 GROUP BY f.name;\"\n",
    "\n",
    "cursor = conn.execute(query)\n",
    "\n",
    "for row in cursor:\n",
    "    print(\"The {} was used by members {} times.\".format(row[0], row[1]))"
   ]
  },
  {
   "cell_type": "markdown",
   "metadata": {},
   "source": [
    "**Q13.** Find the facilities usage by month, but not guests."
   ]
  },
  {
   "cell_type": "code",
   "execution_count": 6,
   "metadata": {},
   "outputs": [],
   "source": [
    "import datetime"
   ]
  },
  {
   "cell_type": "code",
   "execution_count": 7,
   "metadata": {},
   "outputs": [
    {
     "name": "stdout",
     "output_type": "stream",
     "text": [
      "The Badminton Court was used 51 times in month 07.\n",
      "The Badminton Court was used 132 times in month 08.\n",
      "The Badminton Court was used 161 times in month 09.\n",
      "The Massage Room 1 was used 77 times in month 07.\n",
      "The Massage Room 1 was used 153 times in month 08.\n",
      "The Massage Room 1 was used 191 times in month 09.\n",
      "The Massage Room 2 was used 4 times in month 07.\n",
      "The Massage Room 2 was used 9 times in month 08.\n",
      "The Massage Room 2 was used 14 times in month 09.\n",
      "The Pool Table was used 103 times in month 07.\n",
      "The Pool Table was used 272 times in month 08.\n",
      "The Pool Table was used 408 times in month 09.\n",
      "The Snooker Table was used 68 times in month 07.\n",
      "The Snooker Table was used 154 times in month 08.\n",
      "The Snooker Table was used 199 times in month 09.\n",
      "The Squash Court was used 23 times in month 07.\n",
      "The Squash Court was used 85 times in month 08.\n",
      "The Squash Court was used 87 times in month 09.\n",
      "The Table Tennis was used 48 times in month 07.\n",
      "The Table Tennis was used 143 times in month 08.\n",
      "The Table Tennis was used 194 times in month 09.\n",
      "The Tennis Court 1 was used 65 times in month 07.\n",
      "The Tennis Court 1 was used 111 times in month 08.\n",
      "The Tennis Court 1 was used 132 times in month 09.\n",
      "The Tennis Court 2 was used 41 times in month 07.\n",
      "The Tennis Court 2 was used 109 times in month 08.\n",
      "The Tennis Court 2 was used 126 times in month 09.\n"
     ]
    }
   ],
   "source": [
    "query = \"SELECT f.name, strftime('%m', starttime) AS month, COUNT(*) AS member_usage FROM Bookings AS b LEFT JOIN Facilities AS f USING(facid) WHERE memid!=0 GROUP BY f.name, month;\"\n",
    "\n",
    "cursor = conn.execute(query)\n",
    "\n",
    "for row in cursor:\n",
    "    print(\"The {} was used {} times in month {}.\".format(row[0], row[2], row[1]))"
   ]
  },
  {
   "cell_type": "code",
   "execution_count": 8,
   "metadata": {},
   "outputs": [],
   "source": [
    "#Close the connection\n",
    "conn.close()"
   ]
  }
 ],
 "metadata": {
  "kernelspec": {
   "display_name": "Python 3",
   "language": "python",
   "name": "python3"
  },
  "language_info": {
   "codemirror_mode": {
    "name": "ipython",
    "version": 3
   },
   "file_extension": ".py",
   "mimetype": "text/x-python",
   "name": "python",
   "nbconvert_exporter": "python",
   "pygments_lexer": "ipython3",
   "version": "3.8.5"
  }
 },
 "nbformat": 4,
 "nbformat_minor": 4
}
