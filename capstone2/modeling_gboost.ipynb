{
 "cells": [
  {
   "cell_type": "code",
   "execution_count": 12,
   "metadata": {},
   "outputs": [],
   "source": [
    "#Import relevant libraries\n",
    "import pandas as pd\n",
    "import numpy as np\n",
    "import matplotlib.pyplot as plt\n",
    "\n",
    "from sklearn.dummy import DummyClassifier\n",
    "from sklearn.linear_model import LogisticRegression\n",
    "from sklearn.ensemble import RandomForestClassifier, GradientBoostingClassifier\n",
    "from sklearn.metrics import mean_squared_error, r2_score, classification_report, confusion_matrix, roc_curve, roc_auc_score, auc\n",
    "from sklearn.model_selection import GridSearchCV\n",
    "from sklearn.pipeline import Pipeline"
   ]
  },
  {
   "cell_type": "code",
   "execution_count": 2,
   "metadata": {},
   "outputs": [],
   "source": [
    "#Load data\n",
    "train = pd.read_csv('./data/train_data.csv', index_col=0).reset_index(drop=True)\n",
    "test = pd.read_csv('./data/test_data.csv', index_col=0).reset_index(drop=True)\n",
    "\n",
    "scaled_train = pd.read_csv('./data/scaled_train.csv', index_col=0).reset_index(drop=True)\n",
    "scaled_test = pd.read_csv('./data/scaled_test.csv', index_col=0).reset_index(drop=True)"
   ]
  },
  {
   "cell_type": "code",
   "execution_count": 3,
   "metadata": {},
   "outputs": [],
   "source": [
    "X_train = train.drop(columns=['quality'])\n",
    "X_test = test.drop(columns=['quality'])\n",
    "y_train = train['quality']\n",
    "y_test = test['quality']\n",
    "\n",
    "X_scaled_train = scaled_train.drop(columns=['quality'])\n",
    "X_scaled_test = scaled_test.drop(columns=['quality'])\n",
    "y_scaled_train = scaled_train['quality']\n",
    "y_scaled_test = scaled_test['quality']"
   ]
  },
  {
   "cell_type": "markdown",
   "metadata": {},
   "source": [
    "## Evaluation Functions"
   ]
  },
  {
   "cell_type": "code",
   "execution_count": 7,
   "metadata": {},
   "outputs": [],
   "source": [
    "def plot_roc(fpr1, tpr1, fpr0, tpr0):\n",
    "    \"\"\"Plot the ROC curve.\"\"\"\n",
    "    \n",
    "    plt.plot(fpr1, tpr1, color='darkorange', lw=2, label='ROC curve for 1')\n",
    "    plt.plot(fpr0, tpr0, color='navy', lw=2, label='ROC curve for 0')\n",
    "    plt.plot([0,1], [0,1], lw=2, linestyle='--')\n",
    "    plt.xlabel('False Positive Rate')\n",
    "    plt.ylabel('True Positive Rate')\n",
    "    plt.title('Receiver Operating Characteristic')\n",
    "    plt.xlim([0.0, 1.0])\n",
    "    plt.ylim([0.0, 1.05])\n",
    "    \n",
    "    plt.legend()\n",
    "    plt.show()"
   ]
  },
  {
   "cell_type": "code",
   "execution_count": 8,
   "metadata": {},
   "outputs": [],
   "source": [
    "def evaluate(model, X_train, X_test, y_train, y_test):\n",
    "    \"\"\"Obtain the metrics for evaluation of the model.\"\"\"\n",
    "    \n",
    "    #Fit and predict the model\n",
    "    model.fit(X_train, y_train)\n",
    "    train_pred = model.predict(X_train)\n",
    "    y_pred = model.predict(X_test)\n",
    "    \n",
    "    #Calculate metrics\n",
    "    train_RMSE = mean_squared_error(y_train, train_pred, squared=False)\n",
    "    train_R2 = r2_score(y_train, train_pred)\n",
    "    test_RMSE = mean_squared_error(y_test, y_pred, squared=False)\n",
    "    test_R2 = r2_score(y_test, y_pred)\n",
    "    \n",
    "    #Print model name\n",
    "    print(model)\n",
    "    \n",
    "    #Print reports\n",
    "    print(classification_report(y_test, y_pred))\n",
    "    print(confusion_matrix(y_test, y_pred))\n",
    "    \n",
    "    print(\"\\nTrain RMSE: {}\\nTest RMSE: {}\\nTrain R2 score: {}\\nTest R2 score: {}\".format(\n",
    "        train_RMSE, test_RMSE, train_R2, test_R2))\n",
    "    \n",
    "    #Get probability estimates for roc curve\n",
    "    probs = model.predict_proba(X_test)\n",
    "    y_score1 = probs[:,1]\n",
    "    y_score0 = probs[:,0]\n",
    "    \n",
    "    #Calculate ROC metrics\n",
    "    fpr1, tpr1, thresholds1 = roc_curve(y_test, y_score1)\n",
    "    fpr0, tpr0, thresholds0 = roc_curve(y_test, y_score0)\n",
    "    \n",
    "    #Print AUC\n",
    "    print(\"AUC for classifying as good (1): {}\\nAUC for classifying as bad (0): {}.\".format(\n",
    "        auc(fpr1, tpr1), auc(fpr0, tpr0)))\n",
    "    \n",
    "    plot_roc(fpr1, tpr1, fpr0, tpr0)"
   ]
  },
  {
   "cell_type": "markdown",
   "metadata": {},
   "source": [
    "## Gradient Boosting <a name='gboost'></a>\n",
    "Trying out gradient boosting algorithm for my classification model, with both the scaled and unscaled data. I expect there to be very little, if any, difference between the scaled and unscaled data.\n",
    "\n",
    "I will be hyperparameter tuning both via `RandomizedSearchCV` and `GridSearchCV`."
   ]
  },
  {
   "cell_type": "code",
   "execution_count": 6,
   "metadata": {},
   "outputs": [
    {
     "name": "stdout",
     "output_type": "stream",
     "text": [
      "{'random_state': 42, 'n_estimators': 500, 'max_features': 'sqrt', 'max_depth': 25, 'learning_rate': 0.001} 0.7015801332534186\n"
     ]
    }
   ],
   "source": [
    "#Create gradient boosting\n",
    "gb = GradientBoostingClassifier()\n",
    "\n",
    "#Create model parameters to test\n",
    "params = {'learning_rate': [0.001, 0.01, 0.1, 0.3, 0.5, 0.75, 1],\n",
    "          'max_depth': [3, 5, 10, 25, 50, 100],\n",
    "          'n_estimators':[10, 20, 100, 200, 300, 500],\n",
    "          'max_features':[2, 5, 10, 'auto', 'sqrt'],\n",
    "          'random_state':[42]\n",
    "         }\n",
    "\n",
    "#Create gridsearchcv\n",
    "gb_rcv = RandomizedSearchCV(gb, param_distributions=params, cv=5, scoring='roc_auc')\n",
    "\n",
    "#Fit model on unscaled training set\n",
    "gb_rcv.fit(X_train, y_train)\n",
    "\n",
    "#print best parameters and score\n",
    "print(gb_rcv.best_params_, gb_rcv.best_score_)"
   ]
  },
  {
   "cell_type": "code",
   "execution_count": 15,
   "metadata": {},
   "outputs": [
    {
     "name": "stdout",
     "output_type": "stream",
     "text": [
      "GradientBoostingClassifier(ccp_alpha=0.0, criterion='friedman_mse', init=None,\n",
      "                           learning_rate=0.001, loss='deviance', max_depth=25,\n",
      "                           max_features='sqrt', max_leaf_nodes=None,\n",
      "                           min_impurity_decrease=0.0, min_impurity_split=None,\n",
      "                           min_samples_leaf=1, min_samples_split=2,\n",
      "                           min_weight_fraction_leaf=0.0, n_estimators=500,\n",
      "                           n_iter_no_change=None, presort='deprecated',\n",
      "                           random_state=42, subsample=1.0, tol=0.0001,\n",
      "                           validation_fraction=0.1, verbose=0,\n",
      "                           warm_start=False)\n",
      "              precision    recall  f1-score   support\n",
      "\n",
      "         0.0       0.64      0.67      0.66      5766\n",
      "         1.0       0.65      0.62      0.64      5759\n",
      "\n",
      "    accuracy                           0.65     11525\n",
      "   macro avg       0.65      0.65      0.65     11525\n",
      "weighted avg       0.65      0.65      0.65     11525\n",
      "\n",
      "[[3878 1888]\n",
      " [2189 3570]]\n",
      "\n",
      "Train RMSE: 0.0\n",
      "Test RMSE: 0.5947711421183329\n",
      "Train R2 score: 1.0\n",
      "Test R2 score: -0.4150113679913572\n",
      "AUC for classifying as good (1): 0.7006570933296763\n",
      "AUC for classifying as bad (0): 0.2993429066703238.\n"
     ]
    },
    {
     "data": {
      "image/png": "[encoded data removed]",
      "text/plain": [
       "<Figure size 432x288 with 1 Axes>"
      ]
     },
     "metadata": {
      "needs_background": "light"
     },
     "output_type": "display_data"
    }
   ],
   "source": [
    "#Create gradient boosting with the best hyperparameters found\n",
    "gb_rbest = GradientBoostingClassifier(n_estimators=500, max_features='sqrt', max_depth=25, learning_rate=0.001, random_state=42)\n",
    "\n",
    "#Evaluate model on unscaled data\n",
    "evaluate(gb_rbest, X_train, X_test, y_train, y_test)"
   ]
  },
  {
   "cell_type": "markdown",
   "metadata": {},
   "source": [
    "To see if scaling the data makes any difference:"
   ]
  },
  {
   "cell_type": "code",
   "execution_count": 14,
   "metadata": {},
   "outputs": [
    {
     "name": "stdout",
     "output_type": "stream",
     "text": [
      "{'random_state': 42, 'n_estimators': 500, 'max_features': 5, 'max_depth': 5, 'learning_rate': 0.1} 0.6998288801247237\n"
     ]
    }
   ],
   "source": [
    "#Create gradient boosting\n",
    "gb = GradientBoostingClassifier()\n",
    "\n",
    "#Create model parameters to test\n",
    "params = {'learning_rate': [0.001, 0.01, 0.1, 0.3, 0.5, 0.75, 1],\n",
    "          'max_depth': [3, 5, 10, 25, 50, 100],\n",
    "          'n_estimators':[10, 20, 100, 200, 300, 500],\n",
    "          'max_features':[2, 5, 10, 'auto', 'sqrt'],\n",
    "          'random_state':[42]\n",
    "         }\n",
    "\n",
    "#Create gridsearchcv\n",
    "scaledgb_rcv = RandomizedSearchCV(gb, param_distributions=params, cv=5, scoring='roc_auc')\n",
    "\n",
    "#Fit model on unscaled training set\n",
    "scaledgb_rcv.fit(X_scaled_train, y_scaled_train)\n",
    "\n",
    "#print best parameters and score\n",
    "print(scaledgb_rcv.best_params_, scaledgb_rcv.best_score_)"
   ]
  },
  {
   "cell_type": "code",
   "execution_count": 16,
   "metadata": {},
   "outputs": [
    {
     "name": "stdout",
     "output_type": "stream",
     "text": [
      "GradientBoostingClassifier(ccp_alpha=0.0, criterion='friedman_mse', init=None,\n",
      "                           learning_rate=0.1, loss='deviance', max_depth=5,\n",
      "                           max_features=5, max_leaf_nodes=None,\n",
      "                           min_impurity_decrease=0.0, min_impurity_split=None,\n",
      "                           min_samples_leaf=1, min_samples_split=2,\n",
      "                           min_weight_fraction_leaf=0.0, n_estimators=500,\n",
      "                           n_iter_no_change=None, presort='deprecated',\n",
      "                           random_state=42, subsample=1.0, tol=0.0001,\n",
      "                           validation_fraction=0.1, verbose=0,\n",
      "                           warm_start=False)\n",
      "              precision    recall  f1-score   support\n",
      "\n",
      "         0.0       0.64      0.67      0.66      5766\n",
      "         1.0       0.65      0.62      0.64      5759\n",
      "\n",
      "    accuracy                           0.65     11525\n",
      "   macro avg       0.65      0.65      0.65     11525\n",
      "weighted avg       0.65      0.65      0.65     11525\n",
      "\n",
      "[[3881 1885]\n",
      " [2187 3572]]\n",
      "\n",
      "Train RMSE: 0.49278004660641456\n",
      "Test RMSE: 0.5944063189581295\n",
      "Train R2 score: 0.028671236847752524\n",
      "Test R2 score: -0.41327600943360476\n",
      "AUC for classifying as good (1): 0.7035565951545356\n",
      "AUC for classifying as bad (0): 0.2964434048454644.\n"
     ]
    },
    {
     "data": {
      "image/png": "[encoded data removed]",
      "text/plain": [
       "<Figure size 432x288 with 1 Axes>"
      ]
     },
     "metadata": {
      "needs_background": "light"
     },
     "output_type": "display_data"
    }
   ],
   "source": [
    "#Create gradient boosting with the best hyperparameters found\n",
    "scaledgb_rbest = GradientBoostingClassifier(n_estimators=500, max_features=5, max_depth=5, learning_rate=0.1, random_state=42)\n",
    "\n",
    "#Evaluate model on unscaled data\n",
    "evaluate(scaledgb_rbest, X_scaled_train, X_scaled_test, y_scaled_train, y_scaled_test)"
   ]
  },
  {
   "cell_type": "markdown",
   "metadata": {},
   "source": [
    "Using `GridSearchCV`:"
   ]
  },
  {
   "cell_type": "code",
   "execution_count": null,
   "metadata": {},
   "outputs": [],
   "source": [
    "#Create gradient boosting\n",
    "gb = GradientBoostingClassifier()\n",
    "\n",
    "#Create model parameters to test\n",
    "params = {'learning_rate': [0.001, 0.01, 0.1, 0.3, 0.5, 0.75, 1],\n",
    "          'max_depth': [3, 5, 10, 25, 50, 100],\n",
    "          'n_estimators':[10, 20, 100, 200, 300, 500],\n",
    "          'max_features':[2, 5, 10, 'auto', 'sqrt'],\n",
    "          'random_state':[42]\n",
    "         }\n",
    "\n",
    "#Create gridsearchcv\n",
    "gb_cv = GridSearchCV(gb, param_grid=params, cv=5, scoring='roc_auc')\n",
    "\n",
    "#Fit model on training set\n",
    "gb_cv.fit(X_train, y_train)\n",
    "\n",
    "#print best parameters and score\n",
    "print(gb_cv.best_params_, gb_cv.best_score_)"
   ]
  }
 ],
 "metadata": {
  "kernelspec": {
   "display_name": "Python 3",
   "language": "python",
   "name": "python3"
  },
  "language_info": {
   "codemirror_mode": {
    "name": "ipython",
    "version": 3
   },
   "file_extension": ".py",
   "mimetype": "text/x-python",
   "name": "python",
   "nbconvert_exporter": "python",
   "pygments_lexer": "ipython3",
   "version": "3.7.6"
  }
 },
 "nbformat": 4,
 "nbformat_minor": 4
}
