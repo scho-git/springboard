{
 "cells": [
  {
   "cell_type": "markdown",
   "metadata": {},
   "source": [
    "# Capstone Modeling\n",
    "\n",
    "Further experimenting with different models:\n",
    "\n",
    "* [1. Ada Boosting](#ada)\n",
    "* [2. KNN](#knn)"
   ]
  },
  {
   "cell_type": "code",
   "execution_count": 7,
   "metadata": {},
   "outputs": [],
   "source": [
    "#Importing relevant libraries\n",
    "import numpy as np\n",
    "import pandas as pd\n",
    "import matplotlib.pyplot as plt\n",
    "\n",
    "from sklearn.ensemble import AdaBoostClassifier\n",
    "from sklearn.neighbors import KNeighborsClassifier\n",
    "from sklearn.model_selection import GridSearchCV, RandomizedSearchCV\n",
    "\n",
    "from sklearn.metrics import auc, roc_curve, classification_report, confusion_matrix, roc_auc_score, mean_squared_error, r2_score"
   ]
  },
  {
   "cell_type": "code",
   "execution_count": 2,
   "metadata": {},
   "outputs": [],
   "source": [
    "#Load relevant datasets\n",
    "train = pd.read_csv('./data/train_data.csv', index_col=0).reset_index(drop=True)\n",
    "test = pd.read_csv('./data/test_data.csv', index_col=0).reset_index(drop=True)\n",
    "\n",
    "scaled_train = pd.read_csv('./data/scaled_train.csv', index_col=0).reset_index(drop=True)\n",
    "scaled_test = pd.read_csv('./data/scaled_test.csv', index_col=0).reset_index(drop=True)"
   ]
  },
  {
   "cell_type": "code",
   "execution_count": 3,
   "metadata": {},
   "outputs": [],
   "source": [
    "X_train = train.drop(columns=['quality'])\n",
    "X_test = test.drop(columns=['quality'])\n",
    "y_train = train['quality']\n",
    "y_test = test['quality']\n",
    "\n",
    "X_scaled_train = scaled_train.drop(columns=['quality'])\n",
    "X_scaled_test = scaled_test.drop(columns=['quality'])\n",
    "y_scaled_train = scaled_train['quality']\n",
    "y_scaled_test = scaled_test['quality']"
   ]
  },
  {
   "cell_type": "markdown",
   "metadata": {},
   "source": [
    "## Evaluation Functions <a name='eval'></a>\n",
    "Creating some functions to better visualize the model's metrics."
   ]
  },
  {
   "cell_type": "code",
   "execution_count": 4,
   "metadata": {},
   "outputs": [],
   "source": [
    "def plot_roc(fpr1, tpr1, fpr0, tpr0):\n",
    "    \"\"\"Plot the ROC curve.\"\"\"\n",
    "    \n",
    "    plt.plot(fpr1, tpr1, color='darkorange', lw=2, label='ROC curve for 1')\n",
    "    plt.plot(fpr0, tpr0, color='navy', lw=2, label='ROC curve for 0')\n",
    "    plt.plot([0,1], [0,1], lw=2, linestyle='--')\n",
    "    plt.xlabel('False Positive Rate')\n",
    "    plt.ylabel('True Positive Rate')\n",
    "    plt.title('Receiver Operating Characteristic')\n",
    "    plt.xlim([0.0, 1.0])\n",
    "    plt.ylim([0.0, 1.05])\n",
    "    \n",
    "    plt.legend()\n",
    "    plt.show()"
   ]
  },
  {
   "cell_type": "code",
   "execution_count": 6,
   "metadata": {},
   "outputs": [],
   "source": [
    "def evaluate(model, X_train, X_test, y_train, y_test):\n",
    "    \"\"\"Obtain the metrics for evaluation of the model.\"\"\"\n",
    "    \n",
    "    #Fit and predict the model\n",
    "    model.fit(X_train, y_train)\n",
    "    train_pred = model.predict(X_train)\n",
    "    y_pred = model.predict(X_test)\n",
    "    \n",
    "    #Calculate metrics\n",
    "    train_RMSE = mean_squared_error(y_train, train_pred, squared=False)\n",
    "    train_R2 = r2_score(y_train, train_pred)\n",
    "    test_RMSE = mean_squared_error(y_test, y_pred, squared=False)\n",
    "    test_R2 = r2_score(y_test, y_pred)\n",
    "    \n",
    "    #Print model name\n",
    "    print(model)\n",
    "    \n",
    "    #Print reports\n",
    "    print(classification_report(y_test, y_pred))\n",
    "    print(confusion_matrix(y_test, y_pred))\n",
    "    \n",
    "    print(\"\\nTrain RMSE: {}\\nTest RMSE: {}\\nTrain R2 score: {}\\nTest R2 score: {}\".format(\n",
    "        train_RMSE, test_RMSE, train_R2, test_R2))\n",
    "    \n",
    "    #Get probability estimates for roc curve\n",
    "    probs = model.predict_proba(X_test)\n",
    "    y_score1 = probs[:,1]\n",
    "    y_score0 = probs[:,0]\n",
    "    \n",
    "    #Calculate ROC metrics\n",
    "    fpr1, tpr1, thresholds1 = roc_curve(y_test, y_score1)\n",
    "    fpr0, tpr0, thresholds0 = roc_curve(y_test, y_score0)\n",
    "    \n",
    "    #Print AUC\n",
    "    print(\"AUC for classifying as good (1): {}\\nAUC for classifying as bad (0): {}.\".format(\n",
    "        auc(fpr1, tpr1), auc(fpr0, tpr0)))\n",
    "    \n",
    "    plot_roc(fpr1, tpr1, fpr0, tpr0)"
   ]
  },
  {
   "cell_type": "markdown",
   "metadata": {},
   "source": [
    "## Ada Boosting <a name='ada'></a>"
   ]
  },
  {
   "cell_type": "code",
   "execution_count": 11,
   "metadata": {},
   "outputs": [
    {
     "name": "stdout",
     "output_type": "stream",
     "text": [
      "{'learning_rate': 0.3, 'n_estimators': 500, 'random_state': 42} 0.6819266666314915\n"
     ]
    }
   ],
   "source": [
    "#Create ada boost classifier\n",
    "ada = AdaBoostClassifier()\n",
    "\n",
    "#Hyperparameters to tune\n",
    "params = {'n_estimators':[10, 25, 50, 75, 100, 200, 300, 500],\n",
    "          'learning_rate': [0.001, 0.001, 0.1, 0.3, 0.5, 0.7, 1, 3, 5],\n",
    "          'random_state':[42]\n",
    "}\n",
    "\n",
    "#Create gridsearhcv\n",
    "scaledada_cv = GridSearchCV(ada, param_grid=params, cv=5, scoring='roc_auc')\n",
    "\n",
    "#Fit the model\n",
    "scaledada_cv.fit(X_scaled_train, y_scaled_train)\n",
    "\n",
    "#Print the best hyperparameters and score\n",
    "print(scaledada_cv.best_params_, scaledada_cv.best_score_)"
   ]
  },
  {
   "cell_type": "code",
   "execution_count": 13,
   "metadata": {},
   "outputs": [
    {
     "name": "stdout",
     "output_type": "stream",
     "text": [
      "AdaBoostClassifier(learning_rate=0.3, n_estimators=500, random_state=42)\n",
      "              precision    recall  f1-score   support\n",
      "\n",
      "         0.0       0.63      0.66      0.64      5766\n",
      "         1.0       0.64      0.61      0.62      5759\n",
      "\n",
      "    accuracy                           0.63     11525\n",
      "   macro avg       0.63      0.63      0.63     11525\n",
      "weighted avg       0.63      0.63      0.63     11525\n",
      "\n",
      "[[3811 1955]\n",
      " [2268 3491]]\n",
      "\n",
      "Train RMSE: 0.5982384613418062\n",
      "Test RMSE: 0.6053270391243157\n",
      "Train R2 score: -0.4315571235187181\n",
      "Test R2 score: -0.46568383787772905\n",
      "AUC for classifying as good (1): 0.68351709613516\n",
      "AUC for classifying as bad (0): 0.31648290386484.\n"
     ]
    },
    {
     "data": {
      "image/png": "[encoded data removed]",
      "text/plain": [
       "<Figure size 432x288 with 1 Axes>"
      ]
     },
     "metadata": {
      "needs_background": "light"
     },
     "output_type": "display_data"
    }
   ],
   "source": [
    "#Run model on best hyperparameters\n",
    "scaledada_best = AdaBoostClassifier(random_state=42, learning_rate=0.3, n_estimators=500)\n",
    "\n",
    "#Evaluate model\n",
    "evaluate(scaledada_best, X_scaled_train, X_scaled_test, y_scaled_train, y_scaled_test)"
   ]
  },
  {
   "cell_type": "code",
   "execution_count": 12,
   "metadata": {},
   "outputs": [
    {
     "name": "stdout",
     "output_type": "stream",
     "text": [
      "{'learning_rate': 0.3, 'n_estimators': 500, 'random_state': 42} 0.6819483518821142\n"
     ]
    }
   ],
   "source": [
    "#Create ada boost classifier\n",
    "ada = AdaBoostClassifier()\n",
    "\n",
    "#Hyperparameters to tune\n",
    "params = {'n_estimators':[10, 25, 50, 75, 100, 200, 300, 500],\n",
    "          'learning_rate': [0.001, 0.001, 0.1, 0.3, 0.5, 0.7, 1, 3, 5],\n",
    "          'random_state':[42]\n",
    "}\n",
    "\n",
    "#Create gridsearhcv\n",
    "ada_cv = GridSearchCV(ada, param_grid=params, cv=5, scoring='roc_auc')\n",
    "\n",
    "#Fit the model\n",
    "ada_cv.fit(X_train, y_train)\n",
    "\n",
    "#Print the best hyperparameters and score\n",
    "print(ada_cv.best_params_, ada_cv.best_score_)"
   ]
  },
  {
   "cell_type": "code",
   "execution_count": 14,
   "metadata": {},
   "outputs": [
    {
     "name": "stdout",
     "output_type": "stream",
     "text": [
      "AdaBoostClassifier(learning_rate=0.3, n_estimators=500, random_state=42)\n",
      "              precision    recall  f1-score   support\n",
      "\n",
      "         0.0       0.63      0.66      0.64      5766\n",
      "         1.0       0.64      0.61      0.62      5759\n",
      "\n",
      "    accuracy                           0.63     11525\n",
      "   macro avg       0.63      0.63      0.63     11525\n",
      "weighted avg       0.63      0.63      0.63     11525\n",
      "\n",
      "[[3811 1955]\n",
      " [2268 3491]]\n",
      "\n",
      "Train RMSE: 0.5982384613418062\n",
      "Test RMSE: 0.6053270391243157\n",
      "Train R2 score: -0.4315571235187181\n",
      "Test R2 score: -0.46568383787772905\n",
      "AUC for classifying as good (1): 0.68351709613516\n",
      "AUC for classifying as bad (0): 0.31648290386484.\n"
     ]
    },
    {
     "data": {
      "image/png": "[encoded data removed]",
      "text/plain": [
       "<Figure size 432x288 with 1 Axes>"
      ]
     },
     "metadata": {
      "needs_background": "light"
     },
     "output_type": "display_data"
    }
   ],
   "source": [
    "#Run model on best hyperparameters\n",
    "ada_best = AdaBoostClassifier(random_state=42, learning_rate=0.3, n_estimators=500)\n",
    "\n",
    "#Evaluate model\n",
    "evaluate(ada_best, X_train, X_test, y_train, y_test)"
   ]
  },
  {
   "cell_type": "markdown",
   "metadata": {},
   "source": [
    "## KNN <a name='knn'></a>"
   ]
  },
  {
   "cell_type": "code",
   "execution_count": null,
   "metadata": {},
   "outputs": [],
   "source": [
    "#Create KNN classifier\n",
    "knn = KNeighborsClassifier()\n",
    "\n",
    "#Hyperparameters to tune\n",
    "params = {'n_neighbors':[3, 5, 10, 15, 20, 30, 50, 100], \n",
    "          'weights': ['uniform', 'distance'],\n",
    "          'algorithm': ['auto'],\n",
    "          'leaf_size':[10, 20, 30, 50, 75, 100],\n",
    "          'p': [1, 2]\n",
    "}\n",
    "\n",
    "#Create gridsearchcv\n",
    "knn_cv = GridSearchCV(knn, param_grid=params, cv=5, scoring='roc_auc')\n",
    "\n",
    "#Fit model\n",
    "knn_cv.fit(X_scaled_train, y_scaled_train)\n",
    "\n",
    "#Print best hyperparameters and score\n",
    "print(knn_cv.best_params_, knn_cv.best_score_)"
   ]
  }
 ],
 "metadata": {
  "kernelspec": {
   "display_name": "Python 3",
   "language": "python",
   "name": "python3"
  },
  "language_info": {
   "codemirror_mode": {
    "name": "ipython",
    "version": 3
   },
   "file_extension": ".py",
   "mimetype": "text/x-python",
   "name": "python",
   "nbconvert_exporter": "python",
   "pygments_lexer": "ipython3",
   "version": "3.8.5"
  }
 },
 "nbformat": 4,
 "nbformat_minor": 4
}
