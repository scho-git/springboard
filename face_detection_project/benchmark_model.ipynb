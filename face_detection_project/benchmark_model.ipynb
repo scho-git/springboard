{
 "cells": [
  {
   "cell_type": "markdown",
   "id": "e5acafb6",
   "metadata": {
    "papermill": {
     "duration": 0.027438,
     "end_time": "2021-09-24T07:33:10.054082",
     "exception": false,
     "start_time": "2021-09-24T07:33:10.026644",
     "status": "completed"
    },
    "tags": []
   },
   "source": [
    "# Benchmark Model\n",
    "This model has been created as a benchmark to compare the performance of the other models. This model will merely predict the average of the values. For a direct comparison, this benchmark model will use the same image size and amount of images as the ones used in the custom model.\n",
    "\n",
    "This notebook is structured as follows:\n",
    "* [1. Data Wrangling](#1)\n",
    "    * [1.1 Loading Keypoints Data](#1.2)\n",
    "    * [1.2 Images Data](#1.2)\n",
    "    * [1.3 Preprocessing](#1.3)\n",
    "* [2. Helper Functions](#2)\n",
    "* [3. Modeling](#3)\n",
    "    * [2.1 Splitting Data](#3.1)\n",
    "    * [2.2 Building Model](#3.2)\n",
    "    * [2.3 Testing and Evaluating Model](#3.3)"
   ]
  },
  {
   "cell_type": "code",
   "execution_count": 1,
   "id": "3369649b",
   "metadata": {
    "execution": {
     "iopub.execute_input": "2021-09-24T07:33:10.117835Z",
     "iopub.status.busy": "2021-09-24T07:33:10.116649Z",
     "iopub.status.idle": "2021-09-24T07:33:10.119423Z",
     "shell.execute_reply": "2021-09-24T07:33:10.118937Z",
     "shell.execute_reply.started": "2021-09-24T04:06:16.251804Z"
    },
    "papermill": {
     "duration": 0.03943,
     "end_time": "2021-09-24T07:33:10.119541",
     "exception": false,
     "start_time": "2021-09-24T07:33:10.080111",
     "status": "completed"
    },
    "tags": []
   },
   "outputs": [],
   "source": [
    "#Ignore warnings for a cleaner display\n",
    "import warnings\n",
    "warnings.filterwarnings('ignore')"
   ]
  },
  {
   "cell_type": "code",
   "execution_count": 2,
   "id": "066ba874",
   "metadata": {
    "execution": {
     "iopub.execute_input": "2021-09-24T07:33:10.175754Z",
     "iopub.status.busy": "2021-09-24T07:33:10.175058Z",
     "iopub.status.idle": "2021-09-24T07:33:15.229388Z",
     "shell.execute_reply": "2021-09-24T07:33:15.228903Z",
     "shell.execute_reply.started": "2021-09-24T06:30:09.302432Z"
    },
    "papermill": {
     "duration": 5.084284,
     "end_time": "2021-09-24T07:33:15.229523",
     "exception": false,
     "start_time": "2021-09-24T07:33:10.145239",
     "status": "completed"
    },
    "tags": []
   },
   "outputs": [],
   "source": [
    "# Load libraries\n",
    "import numpy as np # linear algebra\n",
    "import pandas as pd # data processing, CSV file I/O (e.g. pd.read_csv)\n",
    "import matplotlib.pyplot as plt\n",
    "import matplotlib.patches as patches\n",
    "import seaborn as sns\n",
    "import keras\n",
    "import tensorflow as tf\n",
    "import PIL\n",
    "\n",
    "from sklearn.model_selection import train_test_split\n",
    "from sklearn.metrics import mean_squared_error\n",
    "\n",
    "from tensorflow.keras.preprocessing import image"
   ]
  },
  {
   "cell_type": "markdown",
   "id": "41bca9a2",
   "metadata": {
    "papermill": {
     "duration": 0.026434,
     "end_time": "2021-09-24T07:33:15.282388",
     "exception": false,
     "start_time": "2021-09-24T07:33:15.255954",
     "status": "completed"
    },
    "tags": []
   },
   "source": [
    "# 1. Data Wrangling <a name='1'></a>\n",
    "\n",
    "## 1.1 Loading Keypoints Data <a name='1.1'></a>\n",
    "I will be using the same amount of dataset as used in the custom model for a direct comparison: 35,000 total images at 65x80."
   ]
  },
  {
   "cell_type": "code",
   "execution_count": 3,
   "id": "c5797cdb",
   "metadata": {
    "execution": {
     "iopub.execute_input": "2021-09-24T07:33:15.339690Z",
     "iopub.status.busy": "2021-09-24T07:33:15.338427Z",
     "iopub.status.idle": "2021-09-24T07:33:15.341238Z",
     "shell.execute_reply": "2021-09-24T07:33:15.340782Z",
     "shell.execute_reply.started": "2021-09-24T06:31:28.824501Z"
    },
    "papermill": {
     "duration": 0.033328,
     "end_time": "2021-09-24T07:33:15.341358",
     "exception": false,
     "start_time": "2021-09-24T07:33:15.308030",
     "status": "completed"
    },
    "tags": []
   },
   "outputs": [],
   "source": [
    "#Define paths to keypoints datasets\n",
    "keypts_data_path = \"../input/celeba-dataset/list_landmarks_align_celeba.csv\"\n",
    "images_data_path = \"../input/celeba-dataset/img_align_celeba/img_align_celeba\"\n",
    "\n",
    "#Select only 35k images first\n",
    "img_data_size = 35000\n",
    "\n",
    "#Original image dimensions\n",
    "x_og = 178\n",
    "y_og = 218\n",
    "\n",
    "# New image dimensions\n",
    "x_ = 80\n",
    "image_size_ratio = x_og / y_og\n",
    "y_ = int(image_size_ratio * x_)\n",
    "\n",
    "# Image Sizes\n",
    "original_image_size = (x_og, y_og)\n",
    "new_image_size = (x_,y_)\n",
    "\n",
    "# The image size that will be used in the training process\n",
    "image_size_training = new_image_size"
   ]
  },
  {
   "cell_type": "code",
   "execution_count": 4,
   "id": "e53e887c",
   "metadata": {
    "execution": {
     "iopub.execute_input": "2021-09-24T07:33:15.397416Z",
     "iopub.status.busy": "2021-09-24T07:33:15.396878Z",
     "iopub.status.idle": "2021-09-24T07:33:15.761167Z",
     "shell.execute_reply": "2021-09-24T07:33:15.760377Z",
     "shell.execute_reply.started": "2021-09-24T06:36:54.031275Z"
    },
    "papermill": {
     "duration": 0.393382,
     "end_time": "2021-09-24T07:33:15.761311",
     "exception": false,
     "start_time": "2021-09-24T07:33:15.367929",
     "status": "completed"
    },
    "tags": []
   },
   "outputs": [
    {
     "data": {
      "text/html": [
       "<div>\n",
       "<style scoped>\n",
       "    .dataframe tbody tr th:only-of-type {\n",
       "        vertical-align: middle;\n",
       "    }\n",
       "\n",
       "    .dataframe tbody tr th {\n",
       "        vertical-align: top;\n",
       "    }\n",
       "\n",
       "    .dataframe thead th {\n",
       "        text-align: right;\n",
       "    }\n",
       "</style>\n",
       "<table border=\"1\" class=\"dataframe\">\n",
       "  <thead>\n",
       "    <tr style=\"text-align: right;\">\n",
       "      <th></th>\n",
       "      <th>image_id</th>\n",
       "      <th>lefteye_x</th>\n",
       "      <th>lefteye_y</th>\n",
       "      <th>righteye_x</th>\n",
       "      <th>righteye_y</th>\n",
       "      <th>nose_x</th>\n",
       "      <th>nose_y</th>\n",
       "      <th>leftmouth_x</th>\n",
       "      <th>leftmouth_y</th>\n",
       "      <th>rightmouth_x</th>\n",
       "      <th>rightmouth_y</th>\n",
       "    </tr>\n",
       "  </thead>\n",
       "  <tbody>\n",
       "    <tr>\n",
       "      <th>19880</th>\n",
       "      <td>019881.jpg</td>\n",
       "      <td>69</td>\n",
       "      <td>110</td>\n",
       "      <td>107</td>\n",
       "      <td>112</td>\n",
       "      <td>98</td>\n",
       "      <td>134</td>\n",
       "      <td>70</td>\n",
       "      <td>152</td>\n",
       "      <td>108</td>\n",
       "      <td>153</td>\n",
       "    </tr>\n",
       "    <tr>\n",
       "      <th>12223</th>\n",
       "      <td>012224.jpg</td>\n",
       "      <td>67</td>\n",
       "      <td>112</td>\n",
       "      <td>110</td>\n",
       "      <td>112</td>\n",
       "      <td>86</td>\n",
       "      <td>135</td>\n",
       "      <td>65</td>\n",
       "      <td>151</td>\n",
       "      <td>112</td>\n",
       "      <td>150</td>\n",
       "    </tr>\n",
       "    <tr>\n",
       "      <th>32081</th>\n",
       "      <td>032082.jpg</td>\n",
       "      <td>70</td>\n",
       "      <td>111</td>\n",
       "      <td>107</td>\n",
       "      <td>111</td>\n",
       "      <td>85</td>\n",
       "      <td>135</td>\n",
       "      <td>73</td>\n",
       "      <td>152</td>\n",
       "      <td>104</td>\n",
       "      <td>153</td>\n",
       "    </tr>\n",
       "    <tr>\n",
       "      <th>14026</th>\n",
       "      <td>014027.jpg</td>\n",
       "      <td>71</td>\n",
       "      <td>109</td>\n",
       "      <td>105</td>\n",
       "      <td>111</td>\n",
       "      <td>92</td>\n",
       "      <td>129</td>\n",
       "      <td>76</td>\n",
       "      <td>154</td>\n",
       "      <td>103</td>\n",
       "      <td>154</td>\n",
       "    </tr>\n",
       "    <tr>\n",
       "      <th>13799</th>\n",
       "      <td>013800.jpg</td>\n",
       "      <td>68</td>\n",
       "      <td>112</td>\n",
       "      <td>109</td>\n",
       "      <td>112</td>\n",
       "      <td>85</td>\n",
       "      <td>141</td>\n",
       "      <td>70</td>\n",
       "      <td>151</td>\n",
       "      <td>107</td>\n",
       "      <td>151</td>\n",
       "    </tr>\n",
       "  </tbody>\n",
       "</table>\n",
       "</div>"
      ],
      "text/plain": [
       "         image_id  lefteye_x  lefteye_y  righteye_x  righteye_y  nose_x  \\\n",
       "19880  019881.jpg         69        110         107         112      98   \n",
       "12223  012224.jpg         67        112         110         112      86   \n",
       "32081  032082.jpg         70        111         107         111      85   \n",
       "14026  014027.jpg         71        109         105         111      92   \n",
       "13799  013800.jpg         68        112         109         112      85   \n",
       "\n",
       "       nose_y  leftmouth_x  leftmouth_y  rightmouth_x  rightmouth_y  \n",
       "19880     134           70          152           108           153  \n",
       "12223     135           65          151           112           150  \n",
       "32081     135           73          152           104           153  \n",
       "14026     129           76          154           103           154  \n",
       "13799     141           70          151           107           151  "
      ]
     },
     "execution_count": 4,
     "metadata": {},
     "output_type": "execute_result"
    }
   ],
   "source": [
    "keypts_og = pd.read_csv(keypts_data_path)[:img_data_size]\n",
    "keypts_og.sample(5)"
   ]
  },
  {
   "cell_type": "code",
   "execution_count": 5,
   "id": "ca6f716b",
   "metadata": {
    "execution": {
     "iopub.execute_input": "2021-09-24T07:33:15.822625Z",
     "iopub.status.busy": "2021-09-24T07:33:15.821871Z",
     "iopub.status.idle": "2021-09-24T07:33:15.862415Z",
     "shell.execute_reply": "2021-09-24T07:33:15.861989Z",
     "shell.execute_reply.started": "2021-09-24T06:36:57.671936Z"
    },
    "papermill": {
     "duration": 0.074459,
     "end_time": "2021-09-24T07:33:15.862529",
     "exception": false,
     "start_time": "2021-09-24T07:33:15.788070",
     "status": "completed"
    },
    "tags": []
   },
   "outputs": [
    {
     "data": {
      "text/html": [
       "<div>\n",
       "<style scoped>\n",
       "    .dataframe tbody tr th:only-of-type {\n",
       "        vertical-align: middle;\n",
       "    }\n",
       "\n",
       "    .dataframe tbody tr th {\n",
       "        vertical-align: top;\n",
       "    }\n",
       "\n",
       "    .dataframe thead th {\n",
       "        text-align: right;\n",
       "    }\n",
       "</style>\n",
       "<table border=\"1\" class=\"dataframe\">\n",
       "  <thead>\n",
       "    <tr style=\"text-align: right;\">\n",
       "      <th></th>\n",
       "      <th>lefteye_x</th>\n",
       "      <th>lefteye_y</th>\n",
       "      <th>righteye_x</th>\n",
       "      <th>righteye_y</th>\n",
       "      <th>nose_x</th>\n",
       "      <th>nose_y</th>\n",
       "      <th>leftmouth_x</th>\n",
       "      <th>leftmouth_y</th>\n",
       "      <th>rightmouth_x</th>\n",
       "      <th>rightmouth_y</th>\n",
       "    </tr>\n",
       "  </thead>\n",
       "  <tbody>\n",
       "    <tr>\n",
       "      <th>count</th>\n",
       "      <td>35000.000000</td>\n",
       "      <td>35000.000000</td>\n",
       "      <td>35000.000000</td>\n",
       "      <td>35000.000000</td>\n",
       "      <td>35000.000000</td>\n",
       "      <td>35000.000000</td>\n",
       "      <td>35000.000000</td>\n",
       "      <td>35000.000000</td>\n",
       "      <td>35000.000000</td>\n",
       "      <td>35000.000000</td>\n",
       "    </tr>\n",
       "    <tr>\n",
       "      <th>mean</th>\n",
       "      <td>69.368743</td>\n",
       "      <td>111.189143</td>\n",
       "      <td>107.625971</td>\n",
       "      <td>111.153229</td>\n",
       "      <td>88.030029</td>\n",
       "      <td>135.075829</td>\n",
       "      <td>71.282286</td>\n",
       "      <td>152.119200</td>\n",
       "      <td>105.553571</td>\n",
       "      <td>152.215571</td>\n",
       "    </tr>\n",
       "    <tr>\n",
       "      <th>std</th>\n",
       "      <td>1.717107</td>\n",
       "      <td>1.128984</td>\n",
       "      <td>1.685886</td>\n",
       "      <td>1.178651</td>\n",
       "      <td>6.702350</td>\n",
       "      <td>4.264796</td>\n",
       "      <td>3.171467</td>\n",
       "      <td>1.795088</td>\n",
       "      <td>3.241235</td>\n",
       "      <td>1.736808</td>\n",
       "    </tr>\n",
       "    <tr>\n",
       "      <th>min</th>\n",
       "      <td>60.000000</td>\n",
       "      <td>99.000000</td>\n",
       "      <td>90.000000</td>\n",
       "      <td>99.000000</td>\n",
       "      <td>59.000000</td>\n",
       "      <td>102.000000</td>\n",
       "      <td>60.000000</td>\n",
       "      <td>142.000000</td>\n",
       "      <td>90.000000</td>\n",
       "      <td>139.000000</td>\n",
       "    </tr>\n",
       "    <tr>\n",
       "      <th>25%</th>\n",
       "      <td>68.000000</td>\n",
       "      <td>111.000000</td>\n",
       "      <td>107.000000</td>\n",
       "      <td>111.000000</td>\n",
       "      <td>84.000000</td>\n",
       "      <td>133.000000</td>\n",
       "      <td>69.000000</td>\n",
       "      <td>151.000000</td>\n",
       "      <td>103.000000</td>\n",
       "      <td>151.000000</td>\n",
       "    </tr>\n",
       "    <tr>\n",
       "      <th>50%</th>\n",
       "      <td>69.000000</td>\n",
       "      <td>111.000000</td>\n",
       "      <td>108.000000</td>\n",
       "      <td>111.000000</td>\n",
       "      <td>88.000000</td>\n",
       "      <td>135.000000</td>\n",
       "      <td>72.000000</td>\n",
       "      <td>152.000000</td>\n",
       "      <td>105.000000</td>\n",
       "      <td>152.000000</td>\n",
       "    </tr>\n",
       "    <tr>\n",
       "      <th>75%</th>\n",
       "      <td>70.000000</td>\n",
       "      <td>112.000000</td>\n",
       "      <td>109.000000</td>\n",
       "      <td>112.000000</td>\n",
       "      <td>92.000000</td>\n",
       "      <td>138.000000</td>\n",
       "      <td>74.000000</td>\n",
       "      <td>153.000000</td>\n",
       "      <td>108.000000</td>\n",
       "      <td>153.000000</td>\n",
       "    </tr>\n",
       "    <tr>\n",
       "      <th>max</th>\n",
       "      <td>85.000000</td>\n",
       "      <td>121.000000</td>\n",
       "      <td>121.000000</td>\n",
       "      <td>120.000000</td>\n",
       "      <td>120.000000</td>\n",
       "      <td>154.000000</td>\n",
       "      <td>88.000000</td>\n",
       "      <td>168.000000</td>\n",
       "      <td>119.000000</td>\n",
       "      <td>170.000000</td>\n",
       "    </tr>\n",
       "  </tbody>\n",
       "</table>\n",
       "</div>"
      ],
      "text/plain": [
       "          lefteye_x     lefteye_y    righteye_x    righteye_y        nose_x  \\\n",
       "count  35000.000000  35000.000000  35000.000000  35000.000000  35000.000000   \n",
       "mean      69.368743    111.189143    107.625971    111.153229     88.030029   \n",
       "std        1.717107      1.128984      1.685886      1.178651      6.702350   \n",
       "min       60.000000     99.000000     90.000000     99.000000     59.000000   \n",
       "25%       68.000000    111.000000    107.000000    111.000000     84.000000   \n",
       "50%       69.000000    111.000000    108.000000    111.000000     88.000000   \n",
       "75%       70.000000    112.000000    109.000000    112.000000     92.000000   \n",
       "max       85.000000    121.000000    121.000000    120.000000    120.000000   \n",
       "\n",
       "             nose_y   leftmouth_x   leftmouth_y  rightmouth_x  rightmouth_y  \n",
       "count  35000.000000  35000.000000  35000.000000  35000.000000  35000.000000  \n",
       "mean     135.075829     71.282286    152.119200    105.553571    152.215571  \n",
       "std        4.264796      3.171467      1.795088      3.241235      1.736808  \n",
       "min      102.000000     60.000000    142.000000     90.000000    139.000000  \n",
       "25%      133.000000     69.000000    151.000000    103.000000    151.000000  \n",
       "50%      135.000000     72.000000    152.000000    105.000000    152.000000  \n",
       "75%      138.000000     74.000000    153.000000    108.000000    153.000000  \n",
       "max      154.000000     88.000000    168.000000    119.000000    170.000000  "
      ]
     },
     "execution_count": 5,
     "metadata": {},
     "output_type": "execute_result"
    }
   ],
   "source": [
    "keypts_og.describe()"
   ]
  },
  {
   "cell_type": "code",
   "execution_count": 6,
   "id": "5119f2c5",
   "metadata": {
    "execution": {
     "iopub.execute_input": "2021-09-24T07:33:15.923904Z",
     "iopub.status.busy": "2021-09-24T07:33:15.923112Z",
     "iopub.status.idle": "2021-09-24T07:33:15.936063Z",
     "shell.execute_reply": "2021-09-24T07:33:15.935666Z",
     "shell.execute_reply.started": "2021-09-24T06:37:00.738098Z"
    },
    "papermill": {
     "duration": 0.046487,
     "end_time": "2021-09-24T07:33:15.936167",
     "exception": false,
     "start_time": "2021-09-24T07:33:15.889680",
     "status": "completed"
    },
    "tags": []
   },
   "outputs": [
    {
     "name": "stdout",
     "output_type": "stream",
     "text": [
      "<class 'pandas.core.frame.DataFrame'>\n",
      "RangeIndex: 35000 entries, 0 to 34999\n",
      "Data columns (total 11 columns):\n",
      " #   Column        Non-Null Count  Dtype \n",
      "---  ------        --------------  ----- \n",
      " 0   image_id      35000 non-null  object\n",
      " 1   lefteye_x     35000 non-null  int64 \n",
      " 2   lefteye_y     35000 non-null  int64 \n",
      " 3   righteye_x    35000 non-null  int64 \n",
      " 4   righteye_y    35000 non-null  int64 \n",
      " 5   nose_x        35000 non-null  int64 \n",
      " 6   nose_y        35000 non-null  int64 \n",
      " 7   leftmouth_x   35000 non-null  int64 \n",
      " 8   leftmouth_y   35000 non-null  int64 \n",
      " 9   rightmouth_x  35000 non-null  int64 \n",
      " 10  rightmouth_y  35000 non-null  int64 \n",
      "dtypes: int64(10), object(1)\n",
      "memory usage: 2.9+ MB\n"
     ]
    }
   ],
   "source": [
    "keypts_og.info()"
   ]
  },
  {
   "cell_type": "code",
   "execution_count": 7,
   "id": "2dc93e95",
   "metadata": {
    "execution": {
     "iopub.execute_input": "2021-09-24T07:33:15.994555Z",
     "iopub.status.busy": "2021-09-24T07:33:15.994024Z",
     "iopub.status.idle": "2021-09-24T07:33:15.999632Z",
     "shell.execute_reply": "2021-09-24T07:33:15.999197Z",
     "shell.execute_reply.started": "2021-09-24T06:37:01.735643Z"
    },
    "papermill": {
     "duration": 0.036423,
     "end_time": "2021-09-24T07:33:15.999738",
     "exception": false,
     "start_time": "2021-09-24T07:33:15.963315",
     "status": "completed"
    },
    "tags": []
   },
   "outputs": [
    {
     "data": {
      "text/plain": [
       "(35000, 11)"
      ]
     },
     "execution_count": 7,
     "metadata": {},
     "output_type": "execute_result"
    }
   ],
   "source": [
    "keypts_og.shape"
   ]
  },
  {
   "cell_type": "markdown",
   "id": "9e35b2bc",
   "metadata": {
    "papermill": {
     "duration": 0.027431,
     "end_time": "2021-09-24T07:33:16.054196",
     "exception": false,
     "start_time": "2021-09-24T07:33:16.026765",
     "status": "completed"
    },
    "tags": []
   },
   "source": [
    "## 1.2 Images Data <a name='1.2'></a>\n",
    "Loading the images data involves converting it to arrays so it may be used it in training the model. They're being resized."
   ]
  },
  {
   "cell_type": "code",
   "execution_count": 8,
   "id": "3f6a4dd7",
   "metadata": {
    "execution": {
     "iopub.execute_input": "2021-09-24T07:33:16.114461Z",
     "iopub.status.busy": "2021-09-24T07:33:16.113655Z",
     "iopub.status.idle": "2021-09-24T07:35:55.460196Z",
     "shell.execute_reply": "2021-09-24T07:35:55.459698Z",
     "shell.execute_reply.started": "2021-09-24T06:37:17.787628Z"
    },
    "papermill": {
     "duration": 159.378891,
     "end_time": "2021-09-24T07:35:55.460368",
     "exception": false,
     "start_time": "2021-09-24T07:33:16.081477",
     "status": "completed"
    },
    "tags": []
   },
   "outputs": [],
   "source": [
    "images = []\n",
    "\n",
    "for idx in range(keypts_og.shape[0]):\n",
    "    #Retrieve path\n",
    "    path = \"{}/{}\".format(str(images_data_path), str(keypts_og.iloc[idx].image_id))\n",
    "    \n",
    "    #Reading images\n",
    "    image = PIL.Image.open(path).resize(image_size_training)\n",
    "    image_array = np.asarray(image) / 255\n",
    "    \n",
    "    #Append images\n",
    "    images.append(image_array)"
   ]
  },
  {
   "cell_type": "code",
   "execution_count": 9,
   "id": "fab0e4e6",
   "metadata": {
    "execution": {
     "iopub.execute_input": "2021-09-24T07:35:55.521859Z",
     "iopub.status.busy": "2021-09-24T07:35:55.520709Z",
     "iopub.status.idle": "2021-09-24T07:35:56.820407Z",
     "shell.execute_reply": "2021-09-24T07:35:56.820820Z",
     "shell.execute_reply.started": "2021-09-24T06:41:04.194997Z"
    },
    "papermill": {
     "duration": 1.332612,
     "end_time": "2021-09-24T07:35:56.820963",
     "exception": false,
     "start_time": "2021-09-24T07:35:55.488351",
     "status": "completed"
    },
    "tags": []
   },
   "outputs": [
    {
     "data": {
      "text/plain": [
       "(35000, 65, 80, 3)"
      ]
     },
     "execution_count": 9,
     "metadata": {},
     "output_type": "execute_result"
    }
   ],
   "source": [
    "#Convert to array\n",
    "images = np.array(images)\n",
    "\n",
    "images.shape"
   ]
  },
  {
   "cell_type": "code",
   "execution_count": 10,
   "id": "75a38518",
   "metadata": {
    "execution": {
     "iopub.execute_input": "2021-09-24T07:35:56.895747Z",
     "iopub.status.busy": "2021-09-24T07:35:56.895048Z",
     "iopub.status.idle": "2021-09-24T07:35:57.234834Z",
     "shell.execute_reply": "2021-09-24T07:35:57.235254Z",
     "shell.execute_reply.started": "2021-09-24T06:41:05.495315Z"
    },
    "papermill": {
     "duration": 0.386716,
     "end_time": "2021-09-24T07:35:57.235447",
     "exception": false,
     "start_time": "2021-09-24T07:35:56.848731",
     "status": "completed"
    },
    "tags": []
   },
   "outputs": [
    {
     "data": {
      "image/png": "[encoded data removed]",
      "text/plain": [
       "<Figure size 432x288 with 4 Axes>"
      ]
     },
     "metadata": {
      "needs_background": "light"
     },
     "output_type": "display_data"
    }
   ],
   "source": [
    "#Plotting sample images\n",
    "idx1, idx2, idx3, idx4 = np.random.randint(0, img_data_size, size=4)\n",
    "\n",
    "fig, axs = plt.subplots(2, 2)\n",
    "axs[0,0].imshow(images[idx1])\n",
    "axs[1,0].imshow(images[idx2])\n",
    "axs[1,1].imshow(images[idx3])\n",
    "axs[0,1].imshow(images[idx4])\n",
    "plt.show()"
   ]
  },
  {
   "cell_type": "markdown",
   "id": "a2cbe093",
   "metadata": {
    "papermill": {
     "duration": 0.030178,
     "end_time": "2021-09-24T07:35:57.296055",
     "exception": false,
     "start_time": "2021-09-24T07:35:57.265877",
     "status": "completed"
    },
    "tags": []
   },
   "source": [
    "## 1.3 Preprocessing <a name='1.3'></a>\n",
    "\n",
    "Since the image sizes were scaled down, the key points need to also be appropriately rescaled."
   ]
  },
  {
   "cell_type": "code",
   "execution_count": 11,
   "id": "3306a38f",
   "metadata": {
    "execution": {
     "iopub.execute_input": "2021-09-24T07:35:57.362139Z",
     "iopub.status.busy": "2021-09-24T07:35:57.361384Z",
     "iopub.status.idle": "2021-09-24T07:35:57.535404Z",
     "shell.execute_reply": "2021-09-24T07:35:57.534923Z",
     "shell.execute_reply.started": "2021-09-24T06:41:06.385969Z"
    },
    "papermill": {
     "duration": 0.209313,
     "end_time": "2021-09-24T07:35:57.535536",
     "exception": false,
     "start_time": "2021-09-24T07:35:57.326223",
     "status": "completed"
    },
    "tags": []
   },
   "outputs": [],
   "source": [
    "#Copy the original dataframe to leave it intact\n",
    "keypts = keypts_og.copy()\n",
    "\n",
    "x_old, y_old = original_image_size\n",
    "x_new, y_new = image_size_training\n",
    "\n",
    "#Get ratio of new to old for rescaling\n",
    "x_ratio = x_new / x_old\n",
    "y_ratio = y_new / y_old\n",
    "\n",
    "keypts_x = ['lefteye_x', 'righteye_x', 'nose_x', 'leftmouth_x', 'rightmouth_x']\n",
    "keypts_y = ['lefteye_y', 'righteye_y', 'nose_y', 'leftmouth_y', 'rightmouth_y']\n",
    "\n",
    "#Rescale the keypoints\n",
    "keypts[keypts_x] = (keypts[keypts_x] * x_ratio)\n",
    "keypts[keypts_y] = (keypts[keypts_y] * y_ratio)"
   ]
  },
  {
   "cell_type": "code",
   "execution_count": 12,
   "id": "66cd276f",
   "metadata": {
    "execution": {
     "iopub.execute_input": "2021-09-24T07:35:57.606605Z",
     "iopub.status.busy": "2021-09-24T07:35:57.605965Z",
     "iopub.status.idle": "2021-09-24T07:35:57.610473Z",
     "shell.execute_reply": "2021-09-24T07:35:57.610841Z",
     "shell.execute_reply.started": "2021-09-24T06:41:06.413500Z"
    },
    "papermill": {
     "duration": 0.044792,
     "end_time": "2021-09-24T07:35:57.610990",
     "exception": false,
     "start_time": "2021-09-24T07:35:57.566198",
     "status": "completed"
    },
    "tags": []
   },
   "outputs": [
    {
     "data": {
      "text/html": [
       "<div>\n",
       "<style scoped>\n",
       "    .dataframe tbody tr th:only-of-type {\n",
       "        vertical-align: middle;\n",
       "    }\n",
       "\n",
       "    .dataframe tbody tr th {\n",
       "        vertical-align: top;\n",
       "    }\n",
       "\n",
       "    .dataframe thead th {\n",
       "        text-align: right;\n",
       "    }\n",
       "</style>\n",
       "<table border=\"1\" class=\"dataframe\">\n",
       "  <thead>\n",
       "    <tr style=\"text-align: right;\">\n",
       "      <th></th>\n",
       "      <th>image_id</th>\n",
       "      <th>lefteye_x</th>\n",
       "      <th>lefteye_y</th>\n",
       "      <th>righteye_x</th>\n",
       "      <th>righteye_y</th>\n",
       "      <th>nose_x</th>\n",
       "      <th>nose_y</th>\n",
       "      <th>leftmouth_x</th>\n",
       "      <th>leftmouth_y</th>\n",
       "      <th>rightmouth_x</th>\n",
       "      <th>rightmouth_y</th>\n",
       "    </tr>\n",
       "  </thead>\n",
       "  <tbody>\n",
       "    <tr>\n",
       "      <th>0</th>\n",
       "      <td>000001.jpg</td>\n",
       "      <td>69</td>\n",
       "      <td>109</td>\n",
       "      <td>106</td>\n",
       "      <td>113</td>\n",
       "      <td>77</td>\n",
       "      <td>142</td>\n",
       "      <td>73</td>\n",
       "      <td>152</td>\n",
       "      <td>108</td>\n",
       "      <td>154</td>\n",
       "    </tr>\n",
       "    <tr>\n",
       "      <th>1</th>\n",
       "      <td>000002.jpg</td>\n",
       "      <td>69</td>\n",
       "      <td>110</td>\n",
       "      <td>107</td>\n",
       "      <td>112</td>\n",
       "      <td>81</td>\n",
       "      <td>135</td>\n",
       "      <td>70</td>\n",
       "      <td>151</td>\n",
       "      <td>108</td>\n",
       "      <td>153</td>\n",
       "    </tr>\n",
       "    <tr>\n",
       "      <th>2</th>\n",
       "      <td>000003.jpg</td>\n",
       "      <td>76</td>\n",
       "      <td>112</td>\n",
       "      <td>104</td>\n",
       "      <td>106</td>\n",
       "      <td>108</td>\n",
       "      <td>128</td>\n",
       "      <td>74</td>\n",
       "      <td>156</td>\n",
       "      <td>98</td>\n",
       "      <td>158</td>\n",
       "    </tr>\n",
       "    <tr>\n",
       "      <th>3</th>\n",
       "      <td>000004.jpg</td>\n",
       "      <td>72</td>\n",
       "      <td>113</td>\n",
       "      <td>108</td>\n",
       "      <td>108</td>\n",
       "      <td>101</td>\n",
       "      <td>138</td>\n",
       "      <td>71</td>\n",
       "      <td>155</td>\n",
       "      <td>101</td>\n",
       "      <td>151</td>\n",
       "    </tr>\n",
       "    <tr>\n",
       "      <th>4</th>\n",
       "      <td>000005.jpg</td>\n",
       "      <td>66</td>\n",
       "      <td>114</td>\n",
       "      <td>112</td>\n",
       "      <td>112</td>\n",
       "      <td>86</td>\n",
       "      <td>119</td>\n",
       "      <td>71</td>\n",
       "      <td>147</td>\n",
       "      <td>104</td>\n",
       "      <td>150</td>\n",
       "    </tr>\n",
       "  </tbody>\n",
       "</table>\n",
       "</div>"
      ],
      "text/plain": [
       "     image_id  lefteye_x  lefteye_y  righteye_x  righteye_y  nose_x  nose_y  \\\n",
       "0  000001.jpg         69        109         106         113      77     142   \n",
       "1  000002.jpg         69        110         107         112      81     135   \n",
       "2  000003.jpg         76        112         104         106     108     128   \n",
       "3  000004.jpg         72        113         108         108     101     138   \n",
       "4  000005.jpg         66        114         112         112      86     119   \n",
       "\n",
       "   leftmouth_x  leftmouth_y  rightmouth_x  rightmouth_y  \n",
       "0           73          152           108           154  \n",
       "1           70          151           108           153  \n",
       "2           74          156            98           158  \n",
       "3           71          155           101           151  \n",
       "4           71          147           104           150  "
      ]
     },
     "execution_count": 12,
     "metadata": {},
     "output_type": "execute_result"
    }
   ],
   "source": [
    "#Compare with original to make sure it's been rescaled\n",
    "keypts_og.head()"
   ]
  },
  {
   "cell_type": "code",
   "execution_count": 13,
   "id": "d68d1e71",
   "metadata": {
    "execution": {
     "iopub.execute_input": "2021-09-24T07:35:57.686827Z",
     "iopub.status.busy": "2021-09-24T07:35:57.675960Z",
     "iopub.status.idle": "2021-09-24T07:35:57.689802Z",
     "shell.execute_reply": "2021-09-24T07:35:57.690211Z",
     "shell.execute_reply.started": "2021-09-24T06:41:06.439679Z"
    },
    "papermill": {
     "duration": 0.048797,
     "end_time": "2021-09-24T07:35:57.690357",
     "exception": false,
     "start_time": "2021-09-24T07:35:57.641560",
     "status": "completed"
    },
    "tags": []
   },
   "outputs": [
    {
     "data": {
      "text/html": [
       "<div>\n",
       "<style scoped>\n",
       "    .dataframe tbody tr th:only-of-type {\n",
       "        vertical-align: middle;\n",
       "    }\n",
       "\n",
       "    .dataframe tbody tr th {\n",
       "        vertical-align: top;\n",
       "    }\n",
       "\n",
       "    .dataframe thead th {\n",
       "        text-align: right;\n",
       "    }\n",
       "</style>\n",
       "<table border=\"1\" class=\"dataframe\">\n",
       "  <thead>\n",
       "    <tr style=\"text-align: right;\">\n",
       "      <th></th>\n",
       "      <th>image_id</th>\n",
       "      <th>lefteye_x</th>\n",
       "      <th>lefteye_y</th>\n",
       "      <th>righteye_x</th>\n",
       "      <th>righteye_y</th>\n",
       "      <th>nose_x</th>\n",
       "      <th>nose_y</th>\n",
       "      <th>leftmouth_x</th>\n",
       "      <th>leftmouth_y</th>\n",
       "      <th>rightmouth_x</th>\n",
       "      <th>rightmouth_y</th>\n",
       "    </tr>\n",
       "  </thead>\n",
       "  <tbody>\n",
       "    <tr>\n",
       "      <th>0</th>\n",
       "      <td>000001.jpg</td>\n",
       "      <td>31.011236</td>\n",
       "      <td>32.500000</td>\n",
       "      <td>47.640449</td>\n",
       "      <td>33.692661</td>\n",
       "      <td>34.606742</td>\n",
       "      <td>42.339450</td>\n",
       "      <td>32.808989</td>\n",
       "      <td>45.321101</td>\n",
       "      <td>48.539326</td>\n",
       "      <td>45.917431</td>\n",
       "    </tr>\n",
       "    <tr>\n",
       "      <th>1</th>\n",
       "      <td>000002.jpg</td>\n",
       "      <td>31.011236</td>\n",
       "      <td>32.798165</td>\n",
       "      <td>48.089888</td>\n",
       "      <td>33.394495</td>\n",
       "      <td>36.404494</td>\n",
       "      <td>40.252294</td>\n",
       "      <td>31.460674</td>\n",
       "      <td>45.022936</td>\n",
       "      <td>48.539326</td>\n",
       "      <td>45.619266</td>\n",
       "    </tr>\n",
       "    <tr>\n",
       "      <th>2</th>\n",
       "      <td>000003.jpg</td>\n",
       "      <td>34.157303</td>\n",
       "      <td>33.394495</td>\n",
       "      <td>46.741573</td>\n",
       "      <td>31.605505</td>\n",
       "      <td>48.539326</td>\n",
       "      <td>38.165138</td>\n",
       "      <td>33.258427</td>\n",
       "      <td>46.513761</td>\n",
       "      <td>44.044944</td>\n",
       "      <td>47.110092</td>\n",
       "    </tr>\n",
       "    <tr>\n",
       "      <th>3</th>\n",
       "      <td>000004.jpg</td>\n",
       "      <td>32.359551</td>\n",
       "      <td>33.692661</td>\n",
       "      <td>48.539326</td>\n",
       "      <td>32.201835</td>\n",
       "      <td>45.393258</td>\n",
       "      <td>41.146789</td>\n",
       "      <td>31.910112</td>\n",
       "      <td>46.215596</td>\n",
       "      <td>45.393258</td>\n",
       "      <td>45.022936</td>\n",
       "    </tr>\n",
       "    <tr>\n",
       "      <th>4</th>\n",
       "      <td>000005.jpg</td>\n",
       "      <td>29.662921</td>\n",
       "      <td>33.990826</td>\n",
       "      <td>50.337079</td>\n",
       "      <td>33.394495</td>\n",
       "      <td>38.651685</td>\n",
       "      <td>35.481651</td>\n",
       "      <td>31.910112</td>\n",
       "      <td>43.830275</td>\n",
       "      <td>46.741573</td>\n",
       "      <td>44.724771</td>\n",
       "    </tr>\n",
       "  </tbody>\n",
       "</table>\n",
       "</div>"
      ],
      "text/plain": [
       "     image_id  lefteye_x  lefteye_y  righteye_x  righteye_y     nose_x  \\\n",
       "0  000001.jpg  31.011236  32.500000   47.640449   33.692661  34.606742   \n",
       "1  000002.jpg  31.011236  32.798165   48.089888   33.394495  36.404494   \n",
       "2  000003.jpg  34.157303  33.394495   46.741573   31.605505  48.539326   \n",
       "3  000004.jpg  32.359551  33.692661   48.539326   32.201835  45.393258   \n",
       "4  000005.jpg  29.662921  33.990826   50.337079   33.394495  38.651685   \n",
       "\n",
       "      nose_y  leftmouth_x  leftmouth_y  rightmouth_x  rightmouth_y  \n",
       "0  42.339450    32.808989    45.321101     48.539326     45.917431  \n",
       "1  40.252294    31.460674    45.022936     48.539326     45.619266  \n",
       "2  38.165138    33.258427    46.513761     44.044944     47.110092  \n",
       "3  41.146789    31.910112    46.215596     45.393258     45.022936  \n",
       "4  35.481651    31.910112    43.830275     46.741573     44.724771  "
      ]
     },
     "execution_count": 13,
     "metadata": {},
     "output_type": "execute_result"
    }
   ],
   "source": [
    "keypts.head()"
   ]
  },
  {
   "cell_type": "code",
   "execution_count": 14,
   "id": "55b21e47",
   "metadata": {
    "execution": {
     "iopub.execute_input": "2021-09-24T07:35:57.759642Z",
     "iopub.status.busy": "2021-09-24T07:35:57.758694Z",
     "iopub.status.idle": "2021-09-24T07:35:57.801051Z",
     "shell.execute_reply": "2021-09-24T07:35:57.800580Z",
     "shell.execute_reply.started": "2021-09-24T06:41:06.471607Z"
    },
    "papermill": {
     "duration": 0.078209,
     "end_time": "2021-09-24T07:35:57.801171",
     "exception": false,
     "start_time": "2021-09-24T07:35:57.722962",
     "status": "completed"
    },
    "tags": []
   },
   "outputs": [
    {
     "data": {
      "text/html": [
       "<div>\n",
       "<style scoped>\n",
       "    .dataframe tbody tr th:only-of-type {\n",
       "        vertical-align: middle;\n",
       "    }\n",
       "\n",
       "    .dataframe tbody tr th {\n",
       "        vertical-align: top;\n",
       "    }\n",
       "\n",
       "    .dataframe thead th {\n",
       "        text-align: right;\n",
       "    }\n",
       "</style>\n",
       "<table border=\"1\" class=\"dataframe\">\n",
       "  <thead>\n",
       "    <tr style=\"text-align: right;\">\n",
       "      <th></th>\n",
       "      <th>lefteye_x</th>\n",
       "      <th>lefteye_y</th>\n",
       "      <th>righteye_x</th>\n",
       "      <th>righteye_y</th>\n",
       "      <th>nose_x</th>\n",
       "      <th>nose_y</th>\n",
       "      <th>leftmouth_x</th>\n",
       "      <th>leftmouth_y</th>\n",
       "      <th>rightmouth_x</th>\n",
       "      <th>rightmouth_y</th>\n",
       "    </tr>\n",
       "  </thead>\n",
       "  <tbody>\n",
       "    <tr>\n",
       "      <th>count</th>\n",
       "      <td>35000.000000</td>\n",
       "      <td>35000.000000</td>\n",
       "      <td>35000.000000</td>\n",
       "      <td>35000.000000</td>\n",
       "      <td>35000.000000</td>\n",
       "      <td>35000.000000</td>\n",
       "      <td>35000.000000</td>\n",
       "      <td>35000.000000</td>\n",
       "      <td>35000.000000</td>\n",
       "      <td>35000.000000</td>\n",
       "    </tr>\n",
       "    <tr>\n",
       "      <th>mean</th>\n",
       "      <td>31.176963</td>\n",
       "      <td>33.152726</td>\n",
       "      <td>48.371223</td>\n",
       "      <td>33.142018</td>\n",
       "      <td>39.564058</td>\n",
       "      <td>40.274903</td>\n",
       "      <td>32.036982</td>\n",
       "      <td>45.356642</td>\n",
       "      <td>47.439807</td>\n",
       "      <td>45.385377</td>\n",
       "    </tr>\n",
       "    <tr>\n",
       "      <th>std</th>\n",
       "      <td>0.771733</td>\n",
       "      <td>0.336624</td>\n",
       "      <td>0.757702</td>\n",
       "      <td>0.351433</td>\n",
       "      <td>3.012292</td>\n",
       "      <td>1.271613</td>\n",
       "      <td>1.425378</td>\n",
       "      <td>0.535233</td>\n",
       "      <td>1.456735</td>\n",
       "      <td>0.517855</td>\n",
       "    </tr>\n",
       "    <tr>\n",
       "      <th>min</th>\n",
       "      <td>26.966292</td>\n",
       "      <td>29.518349</td>\n",
       "      <td>40.449438</td>\n",
       "      <td>29.518349</td>\n",
       "      <td>26.516854</td>\n",
       "      <td>30.412844</td>\n",
       "      <td>26.966292</td>\n",
       "      <td>42.339450</td>\n",
       "      <td>40.449438</td>\n",
       "      <td>41.444954</td>\n",
       "    </tr>\n",
       "    <tr>\n",
       "      <th>25%</th>\n",
       "      <td>30.561798</td>\n",
       "      <td>33.096330</td>\n",
       "      <td>48.089888</td>\n",
       "      <td>33.096330</td>\n",
       "      <td>37.752809</td>\n",
       "      <td>39.655963</td>\n",
       "      <td>31.011236</td>\n",
       "      <td>45.022936</td>\n",
       "      <td>46.292135</td>\n",
       "      <td>45.022936</td>\n",
       "    </tr>\n",
       "    <tr>\n",
       "      <th>50%</th>\n",
       "      <td>31.011236</td>\n",
       "      <td>33.096330</td>\n",
       "      <td>48.539326</td>\n",
       "      <td>33.096330</td>\n",
       "      <td>39.550562</td>\n",
       "      <td>40.252294</td>\n",
       "      <td>32.359551</td>\n",
       "      <td>45.321101</td>\n",
       "      <td>47.191011</td>\n",
       "      <td>45.321101</td>\n",
       "    </tr>\n",
       "    <tr>\n",
       "      <th>75%</th>\n",
       "      <td>31.460674</td>\n",
       "      <td>33.394495</td>\n",
       "      <td>48.988764</td>\n",
       "      <td>33.394495</td>\n",
       "      <td>41.348315</td>\n",
       "      <td>41.146789</td>\n",
       "      <td>33.258427</td>\n",
       "      <td>45.619266</td>\n",
       "      <td>48.539326</td>\n",
       "      <td>45.619266</td>\n",
       "    </tr>\n",
       "    <tr>\n",
       "      <th>max</th>\n",
       "      <td>38.202247</td>\n",
       "      <td>36.077982</td>\n",
       "      <td>54.382022</td>\n",
       "      <td>35.779817</td>\n",
       "      <td>53.932584</td>\n",
       "      <td>45.917431</td>\n",
       "      <td>39.550562</td>\n",
       "      <td>50.091743</td>\n",
       "      <td>53.483146</td>\n",
       "      <td>50.688073</td>\n",
       "    </tr>\n",
       "  </tbody>\n",
       "</table>\n",
       "</div>"
      ],
      "text/plain": [
       "          lefteye_x     lefteye_y    righteye_x    righteye_y        nose_x  \\\n",
       "count  35000.000000  35000.000000  35000.000000  35000.000000  35000.000000   \n",
       "mean      31.176963     33.152726     48.371223     33.142018     39.564058   \n",
       "std        0.771733      0.336624      0.757702      0.351433      3.012292   \n",
       "min       26.966292     29.518349     40.449438     29.518349     26.516854   \n",
       "25%       30.561798     33.096330     48.089888     33.096330     37.752809   \n",
       "50%       31.011236     33.096330     48.539326     33.096330     39.550562   \n",
       "75%       31.460674     33.394495     48.988764     33.394495     41.348315   \n",
       "max       38.202247     36.077982     54.382022     35.779817     53.932584   \n",
       "\n",
       "             nose_y   leftmouth_x   leftmouth_y  rightmouth_x  rightmouth_y  \n",
       "count  35000.000000  35000.000000  35000.000000  35000.000000  35000.000000  \n",
       "mean      40.274903     32.036982     45.356642     47.439807     45.385377  \n",
       "std        1.271613      1.425378      0.535233      1.456735      0.517855  \n",
       "min       30.412844     26.966292     42.339450     40.449438     41.444954  \n",
       "25%       39.655963     31.011236     45.022936     46.292135     45.022936  \n",
       "50%       40.252294     32.359551     45.321101     47.191011     45.321101  \n",
       "75%       41.146789     33.258427     45.619266     48.539326     45.619266  \n",
       "max       45.917431     39.550562     50.091743     53.483146     50.688073  "
      ]
     },
     "execution_count": 14,
     "metadata": {},
     "output_type": "execute_result"
    }
   ],
   "source": [
    "keypts.describe()"
   ]
  },
  {
   "cell_type": "markdown",
   "id": "905d680e",
   "metadata": {
    "papermill": {
     "duration": 0.032414,
     "end_time": "2021-09-24T07:35:57.868117",
     "exception": false,
     "start_time": "2021-09-24T07:35:57.835703",
     "status": "completed"
    },
    "tags": []
   },
   "source": [
    "# 2. Helper Functions <a name='2'></a>"
   ]
  },
  {
   "cell_type": "code",
   "execution_count": 15,
   "id": "831b72ff",
   "metadata": {
    "execution": {
     "iopub.execute_input": "2021-09-24T07:35:57.937669Z",
     "iopub.status.busy": "2021-09-24T07:35:57.937096Z",
     "iopub.status.idle": "2021-09-24T07:35:57.940608Z",
     "shell.execute_reply": "2021-09-24T07:35:57.940978Z",
     "shell.execute_reply.started": "2021-09-24T06:41:36.501759Z"
    },
    "papermill": {
     "duration": 0.040754,
     "end_time": "2021-09-24T07:35:57.941096",
     "exception": false,
     "start_time": "2021-09-24T07:35:57.900342",
     "status": "completed"
    },
    "tags": []
   },
   "outputs": [],
   "source": [
    "#Read image based on index\n",
    "def imread_index(index, size=image_size_training, path=images_data_path):\n",
    "    \"\"\"This function helps read images based on the its index by converting it to an array.\n",
    "    \"\"\"\n",
    "    path = \"{}/{}\".format(str(path), str(keypts_og.iloc[index].image_id))\n",
    "    \n",
    "    #read the image\n",
    "    image = PIL.Image.open(path).resize(size)\n",
    "    image_array = np.asarray(image)\n",
    "    \n",
    "    return image_array"
   ]
  },
  {
   "cell_type": "code",
   "execution_count": 16,
   "id": "b98afbb3",
   "metadata": {
    "execution": {
     "iopub.execute_input": "2021-09-24T07:35:58.014754Z",
     "iopub.status.busy": "2021-09-24T07:35:58.013505Z",
     "iopub.status.idle": "2021-09-24T07:35:58.015753Z",
     "shell.execute_reply": "2021-09-24T07:35:58.016179Z",
     "shell.execute_reply.started": "2021-09-24T06:41:37.814780Z"
    },
    "papermill": {
     "duration": 0.043192,
     "end_time": "2021-09-24T07:35:58.016289",
     "exception": false,
     "start_time": "2021-09-24T07:35:57.973097",
     "status": "completed"
    },
    "tags": []
   },
   "outputs": [],
   "source": [
    "#Get a list of all key points of the face\n",
    "def img_keypts_list(index, df=keypts_og):\n",
    "    \"\"\" This function returns a list of all the key points of the face image so \n",
    "    it's easier to plot\n",
    "    \"\"\"\n",
    "    points_list = [df.iloc[index].lefteye_x, df.iloc[index].lefteye_y,\n",
    "                  df.iloc[index].righteye_x, df.iloc[index].righteye_y,\n",
    "                  df.iloc[index].nose_x, df.iloc[index].nose_y,\n",
    "                  df.iloc[index].leftmouth_x, df.iloc[index].leftmouth_y,\n",
    "                  df.iloc[index].rightmouth_x, df.iloc[index].rightmouth_y]\n",
    "    \n",
    "    return points_list"
   ]
  },
  {
   "cell_type": "code",
   "execution_count": 17,
   "id": "a6fc3b33",
   "metadata": {
    "execution": {
     "iopub.execute_input": "2021-09-24T07:35:58.089264Z",
     "iopub.status.busy": "2021-09-24T07:35:58.088775Z",
     "iopub.status.idle": "2021-09-24T07:35:58.092843Z",
     "shell.execute_reply": "2021-09-24T07:35:58.092403Z",
     "shell.execute_reply.started": "2021-09-24T06:41:39.216583Z"
    },
    "papermill": {
     "duration": 0.043302,
     "end_time": "2021-09-24T07:35:58.092940",
     "exception": false,
     "start_time": "2021-09-24T07:35:58.049638",
     "status": "completed"
    },
    "tags": []
   },
   "outputs": [],
   "source": [
    "#Plot image with green bounding box and keypoints\n",
    "def plot_face_bbox(index, df=keypts_og, size=original_image_size):\n",
    "    \"\"\" This function plots the face image with its keypoints and bounding box\n",
    "    \"\"\"\n",
    "    img = imread_index(index, size)\n",
    "    points_list = img_keypts_list(index, df)\n",
    "    \n",
    "    #Plotting the image\n",
    "    fig, ax = plt.subplots()\n",
    "    ax.imshow(img)\n",
    "    \n",
    "    #Plot the face points\n",
    "    ax.plot(points_list[::2], points_list[1::2], 'bo-')\n",
    "    \n",
    "    #Plot bounding box\n",
    "    width = abs(points_list[0] - points_list[8] - 60) #obtain width from left eye x to right mouth x\n",
    "    height = abs(points_list[1] - points_list[9] - 75)#obtain width from left eye y to right mouth y\n",
    "    rect = patches.Rectangle((points_list[0]-30, points_list[1]-40), width, height, linewidth=4, edgecolor='g', facecolor='none')\n",
    "    ax.add_patch(rect)\n",
    "    \n",
    "    #Remove axis\n",
    "    plt.axis('off')\n",
    "    plt.show()"
   ]
  },
  {
   "cell_type": "code",
   "execution_count": 18,
   "id": "74db9c88",
   "metadata": {
    "execution": {
     "iopub.execute_input": "2021-09-24T07:35:58.164141Z",
     "iopub.status.busy": "2021-09-24T07:35:58.163639Z",
     "iopub.status.idle": "2021-09-24T07:35:58.396718Z",
     "shell.execute_reply": "2021-09-24T07:35:58.397118Z",
     "shell.execute_reply.started": "2021-09-24T06:41:41.640684Z"
    },
    "papermill": {
     "duration": 0.270605,
     "end_time": "2021-09-24T07:35:58.397250",
     "exception": false,
     "start_time": "2021-09-24T07:35:58.126645",
     "status": "completed"
    },
    "tags": []
   },
   "outputs": [
    {
     "data": {
      "image/png": "[encoded data removed]",
      "text/plain": [
       "<Figure size 432x288 with 1 Axes>"
      ]
     },
     "metadata": {
      "needs_background": "light"
     },
     "output_type": "display_data"
    },
    {
     "data": {
      "image/png": "[encoded data removed]",
      "text/plain": [
       "<Figure size 432x288 with 1 Axes>"
      ]
     },
     "metadata": {
      "needs_background": "light"
     },
     "output_type": "display_data"
    },
    {
     "data": {
      "image/png": "[encoded data removed]",
      "text/plain": [
       "<Figure size 432x288 with 1 Axes>"
      ]
     },
     "metadata": {
      "needs_background": "light"
     },
     "output_type": "display_data"
    }
   ],
   "source": [
    "#test\n",
    "idx1, idx2, idx3 = np.random.randint(0, img_data_size, size=3)\n",
    "\n",
    "#Test plotting sample images\n",
    "plot_face_bbox(idx1)\n",
    "plot_face_bbox(idx2)\n",
    "plot_face_bbox(idx3)"
   ]
  },
  {
   "cell_type": "markdown",
   "id": "608927b1",
   "metadata": {
    "papermill": {
     "duration": 0.03721,
     "end_time": "2021-09-24T07:35:58.472002",
     "exception": false,
     "start_time": "2021-09-24T07:35:58.434792",
     "status": "completed"
    },
    "tags": []
   },
   "source": [
    "# 3. Modeling <a name='3'></a>\n",
    "\n",
    "## 3.1 Splitting data into training and test datasets <a name='3.1'></a>"
   ]
  },
  {
   "cell_type": "code",
   "execution_count": 19,
   "id": "d806007f",
   "metadata": {
    "execution": {
     "iopub.execute_input": "2021-09-24T07:35:58.550546Z",
     "iopub.status.busy": "2021-09-24T07:35:58.549860Z",
     "iopub.status.idle": "2021-09-24T07:35:58.552918Z",
     "shell.execute_reply": "2021-09-24T07:35:58.552438Z",
     "shell.execute_reply.started": "2021-09-24T06:42:15.536972Z"
    },
    "papermill": {
     "duration": 0.044155,
     "end_time": "2021-09-24T07:35:58.553029",
     "exception": false,
     "start_time": "2021-09-24T07:35:58.508874",
     "status": "completed"
    },
    "tags": []
   },
   "outputs": [],
   "source": [
    "#Seaparate 20% for the test set\n",
    "test_size = int(img_data_size * 0.2)\n",
    "\n",
    "# training data\n",
    "train_labels = keypts[:img_data_size - test_size]\n",
    "train_images = images[:img_data_size - test_size]\n",
    "\n",
    "\n",
    "# test data\n",
    "test_labels = keypts[img_data_size - test_size + 1:]\n",
    "test_images = images[img_data_size - test_size + 1:]"
   ]
  },
  {
   "cell_type": "markdown",
   "id": "75754e44",
   "metadata": {
    "papermill": {
     "duration": 0.036494,
     "end_time": "2021-09-24T07:35:58.625747",
     "exception": false,
     "start_time": "2021-09-24T07:35:58.589253",
     "status": "completed"
    },
    "tags": []
   },
   "source": [
    "### Train and Validation Sets"
   ]
  },
  {
   "cell_type": "code",
   "execution_count": 20,
   "id": "7f4e8ec9",
   "metadata": {
    "execution": {
     "iopub.execute_input": "2021-09-24T07:35:58.713505Z",
     "iopub.status.busy": "2021-09-24T07:35:58.712717Z",
     "iopub.status.idle": "2021-09-24T07:35:58.716337Z",
     "shell.execute_reply": "2021-09-24T07:35:58.715915Z",
     "shell.execute_reply.started": "2021-09-24T04:10:31.006121Z"
    },
    "papermill": {
     "duration": 0.054138,
     "end_time": "2021-09-24T07:35:58.716462",
     "exception": false,
     "start_time": "2021-09-24T07:35:58.662324",
     "status": "completed"
    },
    "tags": []
   },
   "outputs": [
    {
     "data": {
      "text/html": [
       "<div>\n",
       "<style scoped>\n",
       "    .dataframe tbody tr th:only-of-type {\n",
       "        vertical-align: middle;\n",
       "    }\n",
       "\n",
       "    .dataframe tbody tr th {\n",
       "        vertical-align: top;\n",
       "    }\n",
       "\n",
       "    .dataframe thead th {\n",
       "        text-align: right;\n",
       "    }\n",
       "</style>\n",
       "<table border=\"1\" class=\"dataframe\">\n",
       "  <thead>\n",
       "    <tr style=\"text-align: right;\">\n",
       "      <th></th>\n",
       "      <th>lefteye_x</th>\n",
       "      <th>lefteye_y</th>\n",
       "      <th>righteye_x</th>\n",
       "      <th>righteye_y</th>\n",
       "      <th>nose_x</th>\n",
       "      <th>nose_y</th>\n",
       "      <th>leftmouth_x</th>\n",
       "      <th>leftmouth_y</th>\n",
       "      <th>rightmouth_x</th>\n",
       "      <th>rightmouth_y</th>\n",
       "    </tr>\n",
       "  </thead>\n",
       "  <tbody>\n",
       "    <tr>\n",
       "      <th>0</th>\n",
       "      <td>31.011236</td>\n",
       "      <td>32.500000</td>\n",
       "      <td>47.640449</td>\n",
       "      <td>33.692661</td>\n",
       "      <td>34.606742</td>\n",
       "      <td>42.339450</td>\n",
       "      <td>32.808989</td>\n",
       "      <td>45.321101</td>\n",
       "      <td>48.539326</td>\n",
       "      <td>45.917431</td>\n",
       "    </tr>\n",
       "    <tr>\n",
       "      <th>1</th>\n",
       "      <td>31.011236</td>\n",
       "      <td>32.798165</td>\n",
       "      <td>48.089888</td>\n",
       "      <td>33.394495</td>\n",
       "      <td>36.404494</td>\n",
       "      <td>40.252294</td>\n",
       "      <td>31.460674</td>\n",
       "      <td>45.022936</td>\n",
       "      <td>48.539326</td>\n",
       "      <td>45.619266</td>\n",
       "    </tr>\n",
       "    <tr>\n",
       "      <th>2</th>\n",
       "      <td>34.157303</td>\n",
       "      <td>33.394495</td>\n",
       "      <td>46.741573</td>\n",
       "      <td>31.605505</td>\n",
       "      <td>48.539326</td>\n",
       "      <td>38.165138</td>\n",
       "      <td>33.258427</td>\n",
       "      <td>46.513761</td>\n",
       "      <td>44.044944</td>\n",
       "      <td>47.110092</td>\n",
       "    </tr>\n",
       "  </tbody>\n",
       "</table>\n",
       "</div>"
      ],
      "text/plain": [
       "   lefteye_x  lefteye_y  righteye_x  righteye_y     nose_x     nose_y  \\\n",
       "0  31.011236  32.500000   47.640449   33.692661  34.606742  42.339450   \n",
       "1  31.011236  32.798165   48.089888   33.394495  36.404494  40.252294   \n",
       "2  34.157303  33.394495   46.741573   31.605505  48.539326  38.165138   \n",
       "\n",
       "   leftmouth_x  leftmouth_y  rightmouth_x  rightmouth_y  \n",
       "0    32.808989    45.321101     48.539326     45.917431  \n",
       "1    31.460674    45.022936     48.539326     45.619266  \n",
       "2    33.258427    46.513761     44.044944     47.110092  "
      ]
     },
     "execution_count": 20,
     "metadata": {},
     "output_type": "execute_result"
    }
   ],
   "source": [
    "#Dropping image_id column\n",
    "y = train_labels.drop(['image_id'], axis = 1) \n",
    "X = train_images\n",
    "\n",
    "# check\n",
    "y.head(3)"
   ]
  },
  {
   "cell_type": "code",
   "execution_count": 21,
   "id": "1418bba4",
   "metadata": {
    "execution": {
     "iopub.execute_input": "2021-09-24T07:35:58.797841Z",
     "iopub.status.busy": "2021-09-24T07:35:58.796222Z",
     "iopub.status.idle": "2021-09-24T07:35:59.609632Z",
     "shell.execute_reply": "2021-09-24T07:35:59.610640Z",
     "shell.execute_reply.started": "2021-09-24T04:10:31.028734Z"
    },
    "papermill": {
     "duration": 0.855769,
     "end_time": "2021-09-24T07:35:59.610844",
     "exception": false,
     "start_time": "2021-09-24T07:35:58.755075",
     "status": "completed"
    },
    "tags": []
   },
   "outputs": [
    {
     "data": {
      "text/plain": [
       "0.25"
      ]
     },
     "execution_count": 21,
     "metadata": {},
     "output_type": "execute_result"
    }
   ],
   "source": [
    "#Split the data into training and validation sets\n",
    "X_train, X_val, y_train, y_val = train_test_split(X, y, test_size=0.2,random_state = 42)\n",
    "\n",
    "#Check the ratio\n",
    "X_val.shape[0]/X_train.shape[0]"
   ]
  },
  {
   "cell_type": "markdown",
   "id": "97676435",
   "metadata": {
    "papermill": {
     "duration": 0.087862,
     "end_time": "2021-09-24T07:35:59.826793",
     "exception": false,
     "start_time": "2021-09-24T07:35:59.738931",
     "status": "completed"
    },
    "tags": []
   },
   "source": [
    "## 3.2 Building the Model <a name='3.2'></a>\n",
    "This model will simply predict the averages of the training set values every time."
   ]
  },
  {
   "cell_type": "code",
   "execution_count": 22,
   "id": "46599ed7",
   "metadata": {
    "execution": {
     "iopub.execute_input": "2021-09-24T07:36:00.025072Z",
     "iopub.status.busy": "2021-09-24T07:36:00.024174Z",
     "iopub.status.idle": "2021-09-24T07:36:00.029736Z",
     "shell.execute_reply": "2021-09-24T07:36:00.030975Z",
     "shell.execute_reply.started": "2021-09-24T06:46:51.793160Z"
    },
    "papermill": {
     "duration": 0.082469,
     "end_time": "2021-09-24T07:36:00.031166",
     "exception": false,
     "start_time": "2021-09-24T07:35:59.948697",
     "status": "completed"
    },
    "tags": []
   },
   "outputs": [
    {
     "data": {
      "text/plain": [
       "lefteye_x       31.174222\n",
       "lefteye_y       33.153141\n",
       "righteye_x      48.373419\n",
       "righteye_y      33.142684\n",
       "nose_x          39.568058\n",
       "nose_y          40.273453\n",
       "leftmouth_x     32.035457\n",
       "leftmouth_y     45.354602\n",
       "rightmouth_x    47.442825\n",
       "rightmouth_y    45.386356\n",
       "dtype: float64"
      ]
     },
     "execution_count": 22,
     "metadata": {},
     "output_type": "execute_result"
    }
   ],
   "source": [
    "#Obtain the averages of the training set\n",
    "avgs = train_labels.drop(['image_id'],axis=1).mean()\n",
    "avgs"
   ]
  },
  {
   "cell_type": "markdown",
   "id": "8d741d2d",
   "metadata": {
    "papermill": {
     "duration": 0.061212,
     "end_time": "2021-09-24T07:36:00.158946",
     "exception": false,
     "start_time": "2021-09-24T07:36:00.097734",
     "status": "completed"
    },
    "tags": []
   },
   "source": [
    "## 3.3 Testing and Evaluating the Model <a name='3.3'></a>"
   ]
  },
  {
   "cell_type": "code",
   "execution_count": 23,
   "id": "38e67180",
   "metadata": {
    "execution": {
     "iopub.execute_input": "2021-09-24T07:36:00.314490Z",
     "iopub.status.busy": "2021-09-24T07:36:00.313056Z",
     "iopub.status.idle": "2021-09-24T07:36:00.315685Z",
     "shell.execute_reply": "2021-09-24T07:36:00.316343Z",
     "shell.execute_reply.started": "2021-09-24T06:49:40.786994Z"
    },
    "papermill": {
     "duration": 0.090338,
     "end_time": "2021-09-24T07:36:00.316532",
     "exception": false,
     "start_time": "2021-09-24T07:36:00.226194",
     "status": "completed"
    },
    "tags": []
   },
   "outputs": [],
   "source": [
    "# function to plot the image with green box around the faces\n",
    "def plot_test_img(index, pred_or_actual = 'pred', pointsColor='ro-', boxcolor='g'):\n",
    "    img = tf.keras.preprocessing.image.load_img(\"{}/0{}.jpg\".format(images_data_path, index),target_size=(y_og,x_og,3))\n",
    "    img = tf.keras.preprocessing.image.img_to_array(img)\n",
    "    test_image = img/255\n",
    "    \n",
    "    #Obtain predictions for key points of face\n",
    "    if pred_or_actual == 'pred':\n",
    "        img = tf.keras.preprocessing.image.load_img(\"{}/0{}.jpg\".format(images_data_path, index),target_size=(y_,x_,3))\n",
    "        img = tf.keras.preprocessing.image.img_to_array(img)\n",
    "        img = img/255\n",
    "      \n",
    "        points_list = avgs.astype('int')\n",
    "        \n",
    "        #convert key pts values to original size\n",
    "        x_ratio = 1.05 * (original_image_size[0] / image_size_training[0])\n",
    "        y_ratio = 1.085 * (original_image_size[1] / image_size_training[1])\n",
    "        \n",
    "        points_list[0] = int(points_list[0] * x_ratio)\n",
    "        points_list[2] = int(points_list[2] * x_ratio)\n",
    "        points_list[4] = int(points_list[4] * x_ratio)\n",
    "        points_list[6] = int(points_list[6] * x_ratio)\n",
    "        points_list[8] = int(points_list[8] * x_ratio)\n",
    "    \n",
    "        points_list[1] = int(points_list[1] * y_ratio)\n",
    "        points_list[3] = int(points_list[3] * y_ratio)\n",
    "        points_list[5] = int(points_list[5] * y_ratio)\n",
    "        points_list[7] = int(points_list[7] * y_ratio)\n",
    "        points_list[9] = int(points_list[9] * y_ratio)\n",
    "        \n",
    "        title = 'Predicted'\n",
    "        \n",
    "    elif pred_or_actual == 'actual':      \n",
    "        points_list = img_keypts_list(index)\n",
    "        pointsColor = 'bo-'\n",
    "        title = 'Actual'\n",
    "    \n",
    "    # face points\n",
    "    le_x, le_y, re_x, re_y = points_list[0], points_list[1], points_list[2], points_list[3]\n",
    "    n_x, n_y = points_list[4], points_list[5]\n",
    "    lm_x, lm_y, rm_x, rm_y = points_list[6], points_list[7], points_list[8], points_list[9]\n",
    "\n",
    "    # Create figure and axes\n",
    "    fig, ax = plt.subplots()\n",
    "    # plot the image\n",
    "    ax.imshow(test_image)\n",
    "    # plot the points on the face\n",
    "    ax.plot([le_x,re_x,n_x,lm_x,rm_x], [le_y,re_y,n_y,lm_y,rm_y], pointsColor)\n",
    "    ax.set_title(title)\n",
    "    \n",
    "    # plot the box around the face\n",
    "    width = abs(le_x-rm_x-60)\n",
    "    height = abs(le_y-rm_y-75)\n",
    "    rect = patches.Rectangle((le_x-30, le_y-40), width, height, linewidth=4, edgecolor=boxcolor, facecolor='none')\n",
    "    ax.add_patch(rect);\n",
    "    return points_list"
   ]
  },
  {
   "cell_type": "code",
   "execution_count": 24,
   "id": "150df373",
   "metadata": {
    "execution": {
     "iopub.execute_input": "2021-09-24T07:36:00.475400Z",
     "iopub.status.busy": "2021-09-24T07:36:00.472603Z",
     "iopub.status.idle": "2021-09-24T07:36:00.892424Z",
     "shell.execute_reply": "2021-09-24T07:36:00.892832Z",
     "shell.execute_reply.started": "2021-09-24T06:49:46.881549Z"
    },
    "papermill": {
     "duration": 0.509923,
     "end_time": "2021-09-24T07:36:00.892976",
     "exception": false,
     "start_time": "2021-09-24T07:36:00.383053",
     "status": "completed"
    },
    "tags": []
   },
   "outputs": [
    {
     "data": {
      "text/plain": [
       "[70, 111, 107, 111, 84, 133, 74, 153, 103, 153]"
      ]
     },
     "execution_count": 24,
     "metadata": {},
     "output_type": "execute_result"
    },
    {
     "data": {
      "image/png": "[encoded data removed]",
      "text/plain": [
       "<Figure size 432x288 with 1 Axes>"
      ]
     },
     "metadata": {
      "needs_background": "light"
     },
     "output_type": "display_data"
    },
    {
     "data": {
      "image/png": "[encoded data removed]",
      "text/plain": [
       "<Figure size 432x288 with 1 Axes>"
      ]
     },
     "metadata": {
      "needs_background": "light"
     },
     "output_type": "display_data"
    }
   ],
   "source": [
    "index = 14405\n",
    "plot_test_img(index, pred_or_actual = 'pred')\n",
    "plot_test_img(index, pred_or_actual='actual')"
   ]
  },
  {
   "cell_type": "markdown",
   "id": "c3cf9f80",
   "metadata": {
    "papermill": {
     "duration": 0.047923,
     "end_time": "2021-09-24T07:36:00.985901",
     "exception": false,
     "start_time": "2021-09-24T07:36:00.937978",
     "status": "completed"
    },
    "tags": []
   },
   "source": [
    "I'd also like to evaluate the model MSE per each coordinate."
   ]
  },
  {
   "cell_type": "code",
   "execution_count": 25,
   "id": "62fe91a5",
   "metadata": {
    "execution": {
     "iopub.execute_input": "2021-09-24T07:36:01.086441Z",
     "iopub.status.busy": "2021-09-24T07:36:01.084846Z",
     "iopub.status.idle": "2021-09-24T07:36:01.087307Z",
     "shell.execute_reply": "2021-09-24T07:36:01.087809Z",
     "shell.execute_reply.started": "2021-09-24T07:09:03.402293Z"
    },
    "papermill": {
     "duration": 0.056436,
     "end_time": "2021-09-24T07:36:01.087946",
     "exception": false,
     "start_time": "2021-09-24T07:36:01.031510",
     "status": "completed"
    },
    "tags": []
   },
   "outputs": [],
   "source": [
    "#Evaluation function to calculate MSE for each coordinate\n",
    "def eval_model(labels, predictions, as_df=False):\n",
    "    \"\"\"Calculate the MSE for each for ten coordinates, plus an average of all the MSEs, with the option to output as a DataFrame or a list.\"\"\"\n",
    "    mse_list = []\n",
    "    \n",
    "    #Calculate each MSE and add to list\n",
    "    for i in np.arange(10):\n",
    "        if (type(labels)==pd.DataFrame):\n",
    "            mse_list.append(mean_squared_error(labels.iloc[:,i], np.full(len(labels), predictions[i])))\n",
    "        else:\n",
    "            mse_list.append(mean_squared_error([label[i] for label in labels], predictions[i]))\n",
    "    \n",
    "    #Calculate average MSE\n",
    "    mse_list.append(np.mean(mse_list))\n",
    "    \n",
    "    #Optional output as dataframe\n",
    "    if (as_df):\n",
    "        cols = keypts_og.columns[1:].tolist()\n",
    "        cols.append('average')\n",
    "        \n",
    "        df = pd.DataFrame(columns=cols)\n",
    "        df.loc['MSE'] = mse_list\n",
    "        \n",
    "        return df\n",
    "    #Otherwise output as list\n",
    "    else: return mse_list"
   ]
  },
  {
   "cell_type": "code",
   "execution_count": 26,
   "id": "3dad7f98",
   "metadata": {
    "execution": {
     "iopub.execute_input": "2021-09-24T07:36:01.183543Z",
     "iopub.status.busy": "2021-09-24T07:36:01.182543Z",
     "iopub.status.idle": "2021-09-24T07:36:01.204558Z",
     "shell.execute_reply": "2021-09-24T07:36:01.204033Z",
     "shell.execute_reply.started": "2021-09-24T07:08:20.765742Z"
    },
    "papermill": {
     "duration": 0.073664,
     "end_time": "2021-09-24T07:36:01.204686",
     "exception": false,
     "start_time": "2021-09-24T07:36:01.131022",
     "status": "completed"
    },
    "tags": []
   },
   "outputs": [
    {
     "data": {
      "text/html": [
       "<div>\n",
       "<style scoped>\n",
       "    .dataframe tbody tr th:only-of-type {\n",
       "        vertical-align: middle;\n",
       "    }\n",
       "\n",
       "    .dataframe tbody tr th {\n",
       "        vertical-align: top;\n",
       "    }\n",
       "\n",
       "    .dataframe thead th {\n",
       "        text-align: right;\n",
       "    }\n",
       "</style>\n",
       "<table border=\"1\" class=\"dataframe\">\n",
       "  <thead>\n",
       "    <tr style=\"text-align: right;\">\n",
       "      <th></th>\n",
       "      <th>lefteye_x</th>\n",
       "      <th>lefteye_y</th>\n",
       "      <th>righteye_x</th>\n",
       "      <th>righteye_y</th>\n",
       "      <th>nose_x</th>\n",
       "      <th>nose_y</th>\n",
       "      <th>leftmouth_x</th>\n",
       "      <th>leftmouth_y</th>\n",
       "      <th>rightmouth_x</th>\n",
       "      <th>rightmouth_y</th>\n",
       "      <th>average</th>\n",
       "    </tr>\n",
       "  </thead>\n",
       "  <tbody>\n",
       "    <tr>\n",
       "      <th>MSE</th>\n",
       "      <td>0.607453</td>\n",
       "      <td>0.116987</td>\n",
       "      <td>0.59638</td>\n",
       "      <td>0.120998</td>\n",
       "      <td>9.215325</td>\n",
       "      <td>1.57629</td>\n",
       "      <td>2.045889</td>\n",
       "      <td>0.295481</td>\n",
       "      <td>2.09424</td>\n",
       "      <td>0.273133</td>\n",
       "      <td>1.694218</td>\n",
       "    </tr>\n",
       "  </tbody>\n",
       "</table>\n",
       "</div>"
      ],
      "text/plain": [
       "     lefteye_x  lefteye_y  righteye_x  righteye_y    nose_x   nose_y  \\\n",
       "MSE   0.607453   0.116987     0.59638    0.120998  9.215325  1.57629   \n",
       "\n",
       "     leftmouth_x  leftmouth_y  rightmouth_x  rightmouth_y   average  \n",
       "MSE     2.045889     0.295481       2.09424      0.273133  1.694218  "
      ]
     },
     "execution_count": 26,
     "metadata": {},
     "output_type": "execute_result"
    }
   ],
   "source": [
    "test_lbs = test_labels.drop(['image_id'], axis=1)\n",
    "\n",
    "evaluate = eval_model(test_lbs, avgs, as_df=True)\n",
    "evaluate"
   ]
  },
  {
   "cell_type": "markdown",
   "id": "972d56b8",
   "metadata": {
    "papermill": {
     "duration": 0.044265,
     "end_time": "2021-09-24T07:36:01.297518",
     "exception": false,
     "start_time": "2021-09-24T07:36:01.253253",
     "status": "completed"
    },
    "tags": []
   },
   "source": [
    "## Saving the Model\n",
    "\n",
    "This information will be saved in a more accessible .csv file for comparison between models. \n",
    "\n",
    "Since there is no real training done on this model, I will skip those columns. For a scale-invariant metric, percentage error will also be collected: the MSE values will be converted to RMSE and standardized, by dividing by the average value and multiplied by 100.\n"
   ]
  },
  {
   "cell_type": "code",
   "execution_count": 27,
   "id": "031a84c1",
   "metadata": {
    "execution": {
     "iopub.execute_input": "2021-09-24T07:36:01.388363Z",
     "iopub.status.busy": "2021-09-24T07:36:01.387719Z",
     "iopub.status.idle": "2021-09-24T07:36:01.417778Z",
     "shell.execute_reply": "2021-09-24T07:36:01.417244Z",
     "shell.execute_reply.started": "2021-09-24T07:24:39.608388Z"
    },
    "papermill": {
     "duration": 0.077082,
     "end_time": "2021-09-24T07:36:01.417894",
     "exception": false,
     "start_time": "2021-09-24T07:36:01.340812",
     "status": "completed"
    },
    "tags": []
   },
   "outputs": [
    {
     "data": {
      "text/html": [
       "<div>\n",
       "<style scoped>\n",
       "    .dataframe tbody tr th:only-of-type {\n",
       "        vertical-align: middle;\n",
       "    }\n",
       "\n",
       "    .dataframe tbody tr th {\n",
       "        vertical-align: top;\n",
       "    }\n",
       "\n",
       "    .dataframe thead th {\n",
       "        text-align: right;\n",
       "    }\n",
       "</style>\n",
       "<table border=\"1\" class=\"dataframe\">\n",
       "  <thead>\n",
       "    <tr style=\"text-align: right;\">\n",
       "      <th></th>\n",
       "      <th>loss</th>\n",
       "      <th>val_loss</th>\n",
       "      <th>epoch</th>\n",
       "      <th>batch</th>\n",
       "      <th>lefteye_x</th>\n",
       "      <th>lefteye_y</th>\n",
       "      <th>righteye_x</th>\n",
       "      <th>righteye_y</th>\n",
       "      <th>nose_x</th>\n",
       "      <th>nose_y</th>\n",
       "      <th>...</th>\n",
       "      <th>scaled_lefteye_x</th>\n",
       "      <th>scaled_lefteye_y</th>\n",
       "      <th>scaled_righteye_x</th>\n",
       "      <th>scaled_righteye_y</th>\n",
       "      <th>scaled_nose_x</th>\n",
       "      <th>scaled_nose_y</th>\n",
       "      <th>scaled_leftmouth_x</th>\n",
       "      <th>scaled_leftmouth_y</th>\n",
       "      <th>scaled_rightmouth_x</th>\n",
       "      <th>scaled_rightmouth_y</th>\n",
       "    </tr>\n",
       "  </thead>\n",
       "  <tbody>\n",
       "    <tr>\n",
       "      <th>Custom</th>\n",
       "      <td>[488.2683410644531, 178.78807067871094, 128.86...</td>\n",
       "      <td>[432.4057922363281, 359.76934814453125, 364.08...</td>\n",
       "      <td>300</td>\n",
       "      <td>200</td>\n",
       "      <td>0.550627</td>\n",
       "      <td>0.129648</td>\n",
       "      <td>0.659737</td>\n",
       "      <td>0.121735</td>\n",
       "      <td>2.054469</td>\n",
       "      <td>1.611473</td>\n",
       "      <td>...</td>\n",
       "      <td>2.3801</td>\n",
       "      <td>1.086083</td>\n",
       "      <td>1.679185</td>\n",
       "      <td>1.052759</td>\n",
       "      <td>3.622839</td>\n",
       "      <td>3.151933</td>\n",
       "      <td>4.333488</td>\n",
       "      <td>1.542611</td>\n",
       "      <td>2.933389</td>\n",
       "      <td>1.498164</td>\n",
       "    </tr>\n",
       "  </tbody>\n",
       "</table>\n",
       "<p>1 rows × 25 columns</p>\n",
       "</div>"
      ],
      "text/plain": [
       "                                                     loss  \\\n",
       "Custom  [488.2683410644531, 178.78807067871094, 128.86...   \n",
       "\n",
       "                                                 val_loss  epoch  batch  \\\n",
       "Custom  [432.4057922363281, 359.76934814453125, 364.08...    300    200   \n",
       "\n",
       "        lefteye_x  lefteye_y  righteye_x  righteye_y    nose_x    nose_y  ...  \\\n",
       "Custom   0.550627   0.129648    0.659737    0.121735  2.054469  1.611473  ...   \n",
       "\n",
       "        scaled_lefteye_x  scaled_lefteye_y  scaled_righteye_x  \\\n",
       "Custom            2.3801          1.086083           1.679185   \n",
       "\n",
       "        scaled_righteye_y  scaled_nose_x  scaled_nose_y  scaled_leftmouth_x  \\\n",
       "Custom           1.052759       3.622839       3.151933            4.333488   \n",
       "\n",
       "        scaled_leftmouth_y  scaled_rightmouth_x  scaled_rightmouth_y  \n",
       "Custom            1.542611             2.933389             1.498164  \n",
       "\n",
       "[1 rows x 25 columns]"
      ]
     },
     "execution_count": 27,
     "metadata": {},
     "output_type": "execute_result"
    }
   ],
   "source": [
    "#Load the model csv\n",
    "model_data_path = '../input/model-data/model_data.csv'\n",
    "exp = pd.read_csv(model_data_path, index_col=0)\n",
    "exp"
   ]
  },
  {
   "cell_type": "code",
   "execution_count": 28,
   "id": "144c6224",
   "metadata": {
    "execution": {
     "iopub.execute_input": "2021-09-24T07:36:01.535254Z",
     "iopub.status.busy": "2021-09-24T07:36:01.534683Z",
     "iopub.status.idle": "2021-09-24T07:36:01.538072Z",
     "shell.execute_reply": "2021-09-24T07:36:01.538492Z",
     "shell.execute_reply.started": "2021-09-24T07:24:41.873782Z"
    },
    "papermill": {
     "duration": 0.072378,
     "end_time": "2021-09-24T07:36:01.538615",
     "exception": false,
     "start_time": "2021-09-24T07:36:01.466237",
     "status": "completed"
    },
    "tags": []
   },
   "outputs": [
    {
     "data": {
      "text/html": [
       "<div>\n",
       "<style scoped>\n",
       "    .dataframe tbody tr th:only-of-type {\n",
       "        vertical-align: middle;\n",
       "    }\n",
       "\n",
       "    .dataframe tbody tr th {\n",
       "        vertical-align: top;\n",
       "    }\n",
       "\n",
       "    .dataframe thead th {\n",
       "        text-align: right;\n",
       "    }\n",
       "</style>\n",
       "<table border=\"1\" class=\"dataframe\">\n",
       "  <thead>\n",
       "    <tr style=\"text-align: right;\">\n",
       "      <th></th>\n",
       "      <th>loss</th>\n",
       "      <th>val_loss</th>\n",
       "      <th>epoch</th>\n",
       "      <th>batch</th>\n",
       "      <th>lefteye_x</th>\n",
       "      <th>lefteye_y</th>\n",
       "      <th>righteye_x</th>\n",
       "      <th>righteye_y</th>\n",
       "      <th>nose_x</th>\n",
       "      <th>nose_y</th>\n",
       "      <th>...</th>\n",
       "      <th>scaled_lefteye_x</th>\n",
       "      <th>scaled_lefteye_y</th>\n",
       "      <th>scaled_righteye_x</th>\n",
       "      <th>scaled_righteye_y</th>\n",
       "      <th>scaled_nose_x</th>\n",
       "      <th>scaled_nose_y</th>\n",
       "      <th>scaled_leftmouth_x</th>\n",
       "      <th>scaled_leftmouth_y</th>\n",
       "      <th>scaled_rightmouth_x</th>\n",
       "      <th>scaled_rightmouth_y</th>\n",
       "    </tr>\n",
       "  </thead>\n",
       "  <tbody>\n",
       "    <tr>\n",
       "      <th>Custom</th>\n",
       "      <td>[488.2683410644531, 178.78807067871094, 128.86...</td>\n",
       "      <td>[432.4057922363281, 359.76934814453125, 364.08...</td>\n",
       "      <td>300</td>\n",
       "      <td>200</td>\n",
       "      <td>0.550627</td>\n",
       "      <td>0.129648</td>\n",
       "      <td>0.659737</td>\n",
       "      <td>0.121735</td>\n",
       "      <td>2.054469</td>\n",
       "      <td>1.611473</td>\n",
       "      <td>...</td>\n",
       "      <td>2.3801</td>\n",
       "      <td>1.086083</td>\n",
       "      <td>1.679185</td>\n",
       "      <td>1.052759</td>\n",
       "      <td>3.622839</td>\n",
       "      <td>3.151933</td>\n",
       "      <td>4.333488</td>\n",
       "      <td>1.542611</td>\n",
       "      <td>2.933389</td>\n",
       "      <td>1.498164</td>\n",
       "    </tr>\n",
       "  </tbody>\n",
       "</table>\n",
       "<p>1 rows × 25 columns</p>\n",
       "</div>"
      ],
      "text/plain": [
       "                                                     loss  \\\n",
       "Custom  [488.2683410644531, 178.78807067871094, 128.86...   \n",
       "\n",
       "                                                 val_loss  epoch  batch  \\\n",
       "Custom  [432.4057922363281, 359.76934814453125, 364.08...    300    200   \n",
       "\n",
       "        lefteye_x  lefteye_y  righteye_x  righteye_y    nose_x    nose_y  ...  \\\n",
       "Custom   0.550627   0.129648    0.659737    0.121735  2.054469  1.611473  ...   \n",
       "\n",
       "        scaled_lefteye_x  scaled_lefteye_y  scaled_righteye_x  \\\n",
       "Custom            2.3801          1.086083           1.679185   \n",
       "\n",
       "        scaled_righteye_y  scaled_nose_x  scaled_nose_y  scaled_leftmouth_x  \\\n",
       "Custom           1.052759       3.622839       3.151933            4.333488   \n",
       "\n",
       "        scaled_leftmouth_y  scaled_rightmouth_x  scaled_rightmouth_y  \n",
       "Custom            1.542611             2.933389             1.498164  \n",
       "\n",
       "[1 rows x 25 columns]"
      ]
     },
     "execution_count": 28,
     "metadata": {},
     "output_type": "execute_result"
    }
   ],
   "source": [
    "exp"
   ]
  },
  {
   "cell_type": "code",
   "execution_count": 29,
   "id": "3b39658c",
   "metadata": {
    "execution": {
     "iopub.execute_input": "2021-09-24T07:36:01.640491Z",
     "iopub.status.busy": "2021-09-24T07:36:01.639628Z",
     "iopub.status.idle": "2021-09-24T07:36:01.666854Z",
     "shell.execute_reply": "2021-09-24T07:36:01.667270Z",
     "shell.execute_reply.started": "2021-09-24T07:24:46.604795Z"
    },
    "papermill": {
     "duration": 0.081537,
     "end_time": "2021-09-24T07:36:01.667415",
     "exception": false,
     "start_time": "2021-09-24T07:36:01.585878",
     "status": "completed"
    },
    "tags": []
   },
   "outputs": [
    {
     "data": {
      "text/html": [
       "<div>\n",
       "<style scoped>\n",
       "    .dataframe tbody tr th:only-of-type {\n",
       "        vertical-align: middle;\n",
       "    }\n",
       "\n",
       "    .dataframe tbody tr th {\n",
       "        vertical-align: top;\n",
       "    }\n",
       "\n",
       "    .dataframe thead th {\n",
       "        text-align: right;\n",
       "    }\n",
       "</style>\n",
       "<table border=\"1\" class=\"dataframe\">\n",
       "  <thead>\n",
       "    <tr style=\"text-align: right;\">\n",
       "      <th></th>\n",
       "      <th>loss</th>\n",
       "      <th>val_loss</th>\n",
       "      <th>epoch</th>\n",
       "      <th>batch</th>\n",
       "      <th>lefteye_x</th>\n",
       "      <th>lefteye_y</th>\n",
       "      <th>righteye_x</th>\n",
       "      <th>righteye_y</th>\n",
       "      <th>nose_x</th>\n",
       "      <th>nose_y</th>\n",
       "      <th>...</th>\n",
       "      <th>scaled_lefteye_y</th>\n",
       "      <th>scaled_righteye_x</th>\n",
       "      <th>scaled_righteye_y</th>\n",
       "      <th>scaled_nose_x</th>\n",
       "      <th>scaled_nose_y</th>\n",
       "      <th>scaled_leftmouth_x</th>\n",
       "      <th>scaled_leftmouth_y</th>\n",
       "      <th>scaled_rightmouth_x</th>\n",
       "      <th>scaled_rightmouth_y</th>\n",
       "      <th>scaled_avg</th>\n",
       "    </tr>\n",
       "  </thead>\n",
       "  <tbody>\n",
       "    <tr>\n",
       "      <th>Custom</th>\n",
       "      <td>[488.2683410644531, 178.78807067871094, 128.86...</td>\n",
       "      <td>[432.4057922363281, 359.76934814453125, 364.08...</td>\n",
       "      <td>300.0</td>\n",
       "      <td>200.0</td>\n",
       "      <td>0.550627</td>\n",
       "      <td>0.129648</td>\n",
       "      <td>0.659737</td>\n",
       "      <td>0.121735</td>\n",
       "      <td>2.054469</td>\n",
       "      <td>1.611473</td>\n",
       "      <td>...</td>\n",
       "      <td>1.086083</td>\n",
       "      <td>1.679185</td>\n",
       "      <td>1.052759</td>\n",
       "      <td>3.622839</td>\n",
       "      <td>3.151933</td>\n",
       "      <td>4.333488</td>\n",
       "      <td>1.542611</td>\n",
       "      <td>2.933389</td>\n",
       "      <td>1.498164</td>\n",
       "      <td>NaN</td>\n",
       "    </tr>\n",
       "    <tr>\n",
       "      <th>Benchmark</th>\n",
       "      <td>NaN</td>\n",
       "      <td>NaN</td>\n",
       "      <td>NaN</td>\n",
       "      <td>NaN</td>\n",
       "      <td>0.607453</td>\n",
       "      <td>0.116987</td>\n",
       "      <td>0.596380</td>\n",
       "      <td>0.120998</td>\n",
       "      <td>9.215325</td>\n",
       "      <td>1.576290</td>\n",
       "      <td>...</td>\n",
       "      <td>1.031692</td>\n",
       "      <td>1.596521</td>\n",
       "      <td>1.049569</td>\n",
       "      <td>7.672811</td>\n",
       "      <td>3.117335</td>\n",
       "      <td>4.464671</td>\n",
       "      <td>1.198461</td>\n",
       "      <td>3.050495</td>\n",
       "      <td>1.151519</td>\n",
       "      <td>2.683297</td>\n",
       "    </tr>\n",
       "  </tbody>\n",
       "</table>\n",
       "<p>2 rows × 26 columns</p>\n",
       "</div>"
      ],
      "text/plain": [
       "                                                        loss  \\\n",
       "Custom     [488.2683410644531, 178.78807067871094, 128.86...   \n",
       "Benchmark                                                NaN   \n",
       "\n",
       "                                                    val_loss  epoch  batch  \\\n",
       "Custom     [432.4057922363281, 359.76934814453125, 364.08...  300.0  200.0   \n",
       "Benchmark                                                NaN    NaN    NaN   \n",
       "\n",
       "           lefteye_x  lefteye_y  righteye_x  righteye_y    nose_x    nose_y  \\\n",
       "Custom      0.550627   0.129648    0.659737    0.121735  2.054469  1.611473   \n",
       "Benchmark   0.607453   0.116987    0.596380    0.120998  9.215325  1.576290   \n",
       "\n",
       "           ...  scaled_lefteye_y  scaled_righteye_x  scaled_righteye_y  \\\n",
       "Custom     ...          1.086083           1.679185           1.052759   \n",
       "Benchmark  ...          1.031692           1.596521           1.049569   \n",
       "\n",
       "           scaled_nose_x  scaled_nose_y  scaled_leftmouth_x  \\\n",
       "Custom          3.622839       3.151933            4.333488   \n",
       "Benchmark       7.672811       3.117335            4.464671   \n",
       "\n",
       "           scaled_leftmouth_y  scaled_rightmouth_x  scaled_rightmouth_y  \\\n",
       "Custom               1.542611             2.933389             1.498164   \n",
       "Benchmark            1.198461             3.050495             1.151519   \n",
       "\n",
       "           scaled_avg  \n",
       "Custom            NaN  \n",
       "Benchmark    2.683297  \n",
       "\n",
       "[2 rows x 26 columns]"
      ]
     },
     "execution_count": 29,
     "metadata": {},
     "output_type": "execute_result"
    }
   ],
   "source": [
    "#Add benchmark metrics\n",
    "exp = pd.concat([exp, evaluate.rename(index={'MSE':'Benchmark'})])\n",
    "\n",
    "cols = evaluate.columns[:-1].tolist()\n",
    "\n",
    "#Add scaled benchmark eval metrics\n",
    "for col in cols:\n",
    "    new_column = 'scaled_' + col\n",
    "    \n",
    "    #Convert to RMSE then divide by the coordinate average\n",
    "    exp.loc['Benchmark', new_column] = np.sqrt(exp.loc['Benchmark', col]) / keypts[col].mean() * 100\n",
    "\n",
    "#Add scaled average metric\n",
    "avg = np.mean(exp.iloc[1, -10:])\n",
    "exp.loc['Benchmark', 'scaled_avg'] = avg\n",
    "\n",
    "exp"
   ]
  },
  {
   "cell_type": "code",
   "execution_count": 30,
   "id": "ea2ad103",
   "metadata": {
    "execution": {
     "iopub.execute_input": "2021-09-24T07:36:01.774633Z",
     "iopub.status.busy": "2021-09-24T07:36:01.774092Z",
     "iopub.status.idle": "2021-09-24T07:36:01.779286Z",
     "shell.execute_reply": "2021-09-24T07:36:01.779850Z",
     "shell.execute_reply.started": "2021-09-24T07:24:50.995110Z"
    },
    "papermill": {
     "duration": 0.060811,
     "end_time": "2021-09-24T07:36:01.780005",
     "exception": false,
     "start_time": "2021-09-24T07:36:01.719194",
     "status": "completed"
    },
    "tags": []
   },
   "outputs": [
    {
     "data": {
      "text/plain": [
       "loss                        NaN\n",
       "val_loss                    NaN\n",
       "epoch                       NaN\n",
       "batch                       NaN\n",
       "lefteye_x              0.607453\n",
       "lefteye_y              0.116987\n",
       "righteye_x              0.59638\n",
       "righteye_y             0.120998\n",
       "nose_x                 9.215325\n",
       "nose_y                  1.57629\n",
       "leftmouth_x            2.045889\n",
       "leftmouth_y            0.295481\n",
       "rightmouth_x            2.09424\n",
       "rightmouth_y           0.273133\n",
       "average                1.694218\n",
       "scaled_lefteye_x         2.4999\n",
       "scaled_lefteye_y       1.031692\n",
       "scaled_righteye_x      1.596521\n",
       "scaled_righteye_y      1.049569\n",
       "scaled_nose_x          7.672811\n",
       "scaled_nose_y          3.117335\n",
       "scaled_leftmouth_x     4.464671\n",
       "scaled_leftmouth_y     1.198461\n",
       "scaled_rightmouth_x    3.050495\n",
       "scaled_rightmouth_y    1.151519\n",
       "scaled_avg             2.683297\n",
       "Name: Benchmark, dtype: object"
      ]
     },
     "execution_count": 30,
     "metadata": {},
     "output_type": "execute_result"
    }
   ],
   "source": [
    "exp.loc['Benchmark']"
   ]
  },
  {
   "cell_type": "code",
   "execution_count": 31,
   "id": "ff68ce85",
   "metadata": {
    "execution": {
     "iopub.execute_input": "2021-09-24T07:36:01.874453Z",
     "iopub.status.busy": "2021-09-24T07:36:01.873646Z",
     "iopub.status.idle": "2021-09-24T07:36:01.879719Z",
     "shell.execute_reply": "2021-09-24T07:36:01.879138Z",
     "shell.execute_reply.started": "2021-09-24T07:25:38.817529Z"
    },
    "papermill": {
     "duration": 0.054898,
     "end_time": "2021-09-24T07:36:01.879833",
     "exception": false,
     "start_time": "2021-09-24T07:36:01.824935",
     "status": "completed"
    },
    "tags": []
   },
   "outputs": [],
   "source": [
    "#Save dataframe as .csv\n",
    "exp.to_csv('model_data.csv')"
   ]
  },
  {
   "cell_type": "code",
   "execution_count": 32,
   "id": "5a8c0e7e",
   "metadata": {
    "execution": {
     "iopub.execute_input": "2021-09-24T07:36:01.974879Z",
     "iopub.status.busy": "2021-09-24T07:36:01.974385Z",
     "iopub.status.idle": "2021-09-24T07:36:01.980130Z",
     "shell.execute_reply": "2021-09-24T07:36:01.979725Z",
     "shell.execute_reply.started": "2021-09-24T07:25:41.319705Z"
    },
    "papermill": {
     "duration": 0.054979,
     "end_time": "2021-09-24T07:36:01.980234",
     "exception": false,
     "start_time": "2021-09-24T07:36:01.925255",
     "status": "completed"
    },
    "tags": []
   },
   "outputs": [
    {
     "data": {
      "text/html": [
       "<a href='model_data.csv' target='_blank'>model_data.csv</a><br>"
      ],
      "text/plain": [
       "/kaggle/working/model_data.csv"
      ]
     },
     "execution_count": 32,
     "metadata": {},
     "output_type": "execute_result"
    }
   ],
   "source": [
    "#Download csv\n",
    "from IPython.display import FileLink\n",
    "FileLink(r'model_data.csv')"
   ]
  }
 ],
 "metadata": {
  "kernelspec": {
   "display_name": "Python 3",
   "language": "python",
   "name": "python3"
  },
  "language_info": {
   "codemirror_mode": {
    "name": "ipython",
    "version": 3
   },
   "file_extension": ".py",
   "mimetype": "text/x-python",
   "name": "python",
   "nbconvert_exporter": "python",
   "pygments_lexer": "ipython3",
   "version": "3.7.10"
  },
  "papermill": {
   "default_parameters": {},
   "duration": 180.664345,
   "end_time": "2021-09-24T07:36:04.164067",
   "environment_variables": {},
   "exception": null,
   "input_path": "__notebook__.ipynb",
   "output_path": "__notebook__.ipynb",
   "parameters": {},
   "start_time": "2021-09-24T07:33:03.499722",
   "version": "2.3.3"
  }
 },
 "nbformat": 4,
 "nbformat_minor": 5
}
